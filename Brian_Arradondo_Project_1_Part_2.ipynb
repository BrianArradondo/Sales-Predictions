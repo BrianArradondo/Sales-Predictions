{
  "nbformat": 4,
  "nbformat_minor": 0,
  "metadata": {
    "colab": {
      "provenance": [],
      "mount_file_id": "https://github.com/BrianArradondo/AI-predictions/blob/main/Brian_Arradondo_Project_1_Part_2.ipynb",
      "authorship_tag": "ABX9TyO5nilFiOSHqrwZaIcVbdiT",
      "include_colab_link": true
    },
    "kernelspec": {
      "name": "python3",
      "display_name": "Python 3"
    },
    "language_info": {
      "name": "python"
    }
  },
  "cells": [
    {
      "cell_type": "markdown",
      "metadata": {
        "id": "view-in-github",
        "colab_type": "text"
      },
      "source": [
        "<a href=\"https://colab.research.google.com/github/BrianArradondo/AI-predictions/blob/main/Brian_Arradondo_Project_1_Part_2.ipynb\" target=\"_parent\"><img src=\"https://colab.research.google.com/assets/colab-badge.svg\" alt=\"Open In Colab\"/></a>"
      ]
    },
    {
      "cell_type": "markdown",
      "source": [
        "#**Import Libraries**# "
      ],
      "metadata": {
        "id": "JlvZDduj2ocm"
      }
    },
    {
      "cell_type": "code",
      "execution_count": 2,
      "metadata": {
        "id": "xkMrpCeo5BdX"
      },
      "outputs": [],
      "source": [
        "import pandas as pd\n",
        "import numpy as np\n",
        "import matplotlib.pyplot as plt\n",
        "import seaborn as sns"
      ]
    },
    {
      "cell_type": "code",
      "source": [
        "# I mounted the drive by clicking on the drive folder"
      ],
      "metadata": {
        "id": "cAi4sGKc5ROg"
      },
      "execution_count": 3,
      "outputs": []
    },
    {
      "cell_type": "code",
      "source": [
        "filename = (\"/content/drive/MyDrive/Colab Notebooks/sales_predictions.csv\")"
      ],
      "metadata": {
        "id": "2Dnyh3m55aTU"
      },
      "execution_count": 4,
      "outputs": []
    },
    {
      "cell_type": "code",
      "source": [
        "pd.read_csv(filename) # this line of code saves my dataset under filename and allows it to be read by my drive"
      ],
      "metadata": {
        "colab": {
          "base_uri": "https://localhost:8080/",
          "height": 661
        },
        "id": "9usFW1px6eye",
        "outputId": "8aefb32b-f3a9-4557-af28-9c63fd573e3a"
      },
      "execution_count": 5,
      "outputs": [
        {
          "output_type": "execute_result",
          "data": {
            "text/plain": [
              "     Item_Identifier  Item_Weight Item_Fat_Content  Item_Visibility  \\\n",
              "0              FDA15        9.300          Low Fat         0.016047   \n",
              "1              DRC01        5.920          Regular         0.019278   \n",
              "2              FDN15       17.500          Low Fat         0.016760   \n",
              "3              FDX07       19.200          Regular         0.000000   \n",
              "4              NCD19        8.930          Low Fat         0.000000   \n",
              "...              ...          ...              ...              ...   \n",
              "8518           FDF22        6.865          Low Fat         0.056783   \n",
              "8519           FDS36        8.380          Regular         0.046982   \n",
              "8520           NCJ29       10.600          Low Fat         0.035186   \n",
              "8521           FDN46        7.210          Regular         0.145221   \n",
              "8522           DRG01       14.800          Low Fat         0.044878   \n",
              "\n",
              "                  Item_Type  Item_MRP Outlet_Identifier  \\\n",
              "0                     Dairy  249.8092            OUT049   \n",
              "1               Soft Drinks   48.2692            OUT018   \n",
              "2                      Meat  141.6180            OUT049   \n",
              "3     Fruits and Vegetables  182.0950            OUT010   \n",
              "4                 Household   53.8614            OUT013   \n",
              "...                     ...       ...               ...   \n",
              "8518            Snack Foods  214.5218            OUT013   \n",
              "8519           Baking Goods  108.1570            OUT045   \n",
              "8520     Health and Hygiene   85.1224            OUT035   \n",
              "8521            Snack Foods  103.1332            OUT018   \n",
              "8522            Soft Drinks   75.4670            OUT046   \n",
              "\n",
              "      Outlet_Establishment_Year Outlet_Size Outlet_Location_Type  \\\n",
              "0                          1999      Medium               Tier 1   \n",
              "1                          2009      Medium               Tier 3   \n",
              "2                          1999      Medium               Tier 1   \n",
              "3                          1998         NaN               Tier 3   \n",
              "4                          1987        High               Tier 3   \n",
              "...                         ...         ...                  ...   \n",
              "8518                       1987        High               Tier 3   \n",
              "8519                       2002         NaN               Tier 2   \n",
              "8520                       2004       Small               Tier 2   \n",
              "8521                       2009      Medium               Tier 3   \n",
              "8522                       1997       Small               Tier 1   \n",
              "\n",
              "            Outlet_Type  Item_Outlet_Sales  \n",
              "0     Supermarket Type1          3735.1380  \n",
              "1     Supermarket Type2           443.4228  \n",
              "2     Supermarket Type1          2097.2700  \n",
              "3         Grocery Store           732.3800  \n",
              "4     Supermarket Type1           994.7052  \n",
              "...                 ...                ...  \n",
              "8518  Supermarket Type1          2778.3834  \n",
              "8519  Supermarket Type1           549.2850  \n",
              "8520  Supermarket Type1          1193.1136  \n",
              "8521  Supermarket Type2          1845.5976  \n",
              "8522  Supermarket Type1           765.6700  \n",
              "\n",
              "[8523 rows x 12 columns]"
            ],
            "text/html": [
              "\n",
              "  <div id=\"df-8be95ecc-82d6-466a-acd0-a17e5cb31c5a\">\n",
              "    <div class=\"colab-df-container\">\n",
              "      <div>\n",
              "<style scoped>\n",
              "    .dataframe tbody tr th:only-of-type {\n",
              "        vertical-align: middle;\n",
              "    }\n",
              "\n",
              "    .dataframe tbody tr th {\n",
              "        vertical-align: top;\n",
              "    }\n",
              "\n",
              "    .dataframe thead th {\n",
              "        text-align: right;\n",
              "    }\n",
              "</style>\n",
              "<table border=\"1\" class=\"dataframe\">\n",
              "  <thead>\n",
              "    <tr style=\"text-align: right;\">\n",
              "      <th></th>\n",
              "      <th>Item_Identifier</th>\n",
              "      <th>Item_Weight</th>\n",
              "      <th>Item_Fat_Content</th>\n",
              "      <th>Item_Visibility</th>\n",
              "      <th>Item_Type</th>\n",
              "      <th>Item_MRP</th>\n",
              "      <th>Outlet_Identifier</th>\n",
              "      <th>Outlet_Establishment_Year</th>\n",
              "      <th>Outlet_Size</th>\n",
              "      <th>Outlet_Location_Type</th>\n",
              "      <th>Outlet_Type</th>\n",
              "      <th>Item_Outlet_Sales</th>\n",
              "    </tr>\n",
              "  </thead>\n",
              "  <tbody>\n",
              "    <tr>\n",
              "      <th>0</th>\n",
              "      <td>FDA15</td>\n",
              "      <td>9.300</td>\n",
              "      <td>Low Fat</td>\n",
              "      <td>0.016047</td>\n",
              "      <td>Dairy</td>\n",
              "      <td>249.8092</td>\n",
              "      <td>OUT049</td>\n",
              "      <td>1999</td>\n",
              "      <td>Medium</td>\n",
              "      <td>Tier 1</td>\n",
              "      <td>Supermarket Type1</td>\n",
              "      <td>3735.1380</td>\n",
              "    </tr>\n",
              "    <tr>\n",
              "      <th>1</th>\n",
              "      <td>DRC01</td>\n",
              "      <td>5.920</td>\n",
              "      <td>Regular</td>\n",
              "      <td>0.019278</td>\n",
              "      <td>Soft Drinks</td>\n",
              "      <td>48.2692</td>\n",
              "      <td>OUT018</td>\n",
              "      <td>2009</td>\n",
              "      <td>Medium</td>\n",
              "      <td>Tier 3</td>\n",
              "      <td>Supermarket Type2</td>\n",
              "      <td>443.4228</td>\n",
              "    </tr>\n",
              "    <tr>\n",
              "      <th>2</th>\n",
              "      <td>FDN15</td>\n",
              "      <td>17.500</td>\n",
              "      <td>Low Fat</td>\n",
              "      <td>0.016760</td>\n",
              "      <td>Meat</td>\n",
              "      <td>141.6180</td>\n",
              "      <td>OUT049</td>\n",
              "      <td>1999</td>\n",
              "      <td>Medium</td>\n",
              "      <td>Tier 1</td>\n",
              "      <td>Supermarket Type1</td>\n",
              "      <td>2097.2700</td>\n",
              "    </tr>\n",
              "    <tr>\n",
              "      <th>3</th>\n",
              "      <td>FDX07</td>\n",
              "      <td>19.200</td>\n",
              "      <td>Regular</td>\n",
              "      <td>0.000000</td>\n",
              "      <td>Fruits and Vegetables</td>\n",
              "      <td>182.0950</td>\n",
              "      <td>OUT010</td>\n",
              "      <td>1998</td>\n",
              "      <td>NaN</td>\n",
              "      <td>Tier 3</td>\n",
              "      <td>Grocery Store</td>\n",
              "      <td>732.3800</td>\n",
              "    </tr>\n",
              "    <tr>\n",
              "      <th>4</th>\n",
              "      <td>NCD19</td>\n",
              "      <td>8.930</td>\n",
              "      <td>Low Fat</td>\n",
              "      <td>0.000000</td>\n",
              "      <td>Household</td>\n",
              "      <td>53.8614</td>\n",
              "      <td>OUT013</td>\n",
              "      <td>1987</td>\n",
              "      <td>High</td>\n",
              "      <td>Tier 3</td>\n",
              "      <td>Supermarket Type1</td>\n",
              "      <td>994.7052</td>\n",
              "    </tr>\n",
              "    <tr>\n",
              "      <th>...</th>\n",
              "      <td>...</td>\n",
              "      <td>...</td>\n",
              "      <td>...</td>\n",
              "      <td>...</td>\n",
              "      <td>...</td>\n",
              "      <td>...</td>\n",
              "      <td>...</td>\n",
              "      <td>...</td>\n",
              "      <td>...</td>\n",
              "      <td>...</td>\n",
              "      <td>...</td>\n",
              "      <td>...</td>\n",
              "    </tr>\n",
              "    <tr>\n",
              "      <th>8518</th>\n",
              "      <td>FDF22</td>\n",
              "      <td>6.865</td>\n",
              "      <td>Low Fat</td>\n",
              "      <td>0.056783</td>\n",
              "      <td>Snack Foods</td>\n",
              "      <td>214.5218</td>\n",
              "      <td>OUT013</td>\n",
              "      <td>1987</td>\n",
              "      <td>High</td>\n",
              "      <td>Tier 3</td>\n",
              "      <td>Supermarket Type1</td>\n",
              "      <td>2778.3834</td>\n",
              "    </tr>\n",
              "    <tr>\n",
              "      <th>8519</th>\n",
              "      <td>FDS36</td>\n",
              "      <td>8.380</td>\n",
              "      <td>Regular</td>\n",
              "      <td>0.046982</td>\n",
              "      <td>Baking Goods</td>\n",
              "      <td>108.1570</td>\n",
              "      <td>OUT045</td>\n",
              "      <td>2002</td>\n",
              "      <td>NaN</td>\n",
              "      <td>Tier 2</td>\n",
              "      <td>Supermarket Type1</td>\n",
              "      <td>549.2850</td>\n",
              "    </tr>\n",
              "    <tr>\n",
              "      <th>8520</th>\n",
              "      <td>NCJ29</td>\n",
              "      <td>10.600</td>\n",
              "      <td>Low Fat</td>\n",
              "      <td>0.035186</td>\n",
              "      <td>Health and Hygiene</td>\n",
              "      <td>85.1224</td>\n",
              "      <td>OUT035</td>\n",
              "      <td>2004</td>\n",
              "      <td>Small</td>\n",
              "      <td>Tier 2</td>\n",
              "      <td>Supermarket Type1</td>\n",
              "      <td>1193.1136</td>\n",
              "    </tr>\n",
              "    <tr>\n",
              "      <th>8521</th>\n",
              "      <td>FDN46</td>\n",
              "      <td>7.210</td>\n",
              "      <td>Regular</td>\n",
              "      <td>0.145221</td>\n",
              "      <td>Snack Foods</td>\n",
              "      <td>103.1332</td>\n",
              "      <td>OUT018</td>\n",
              "      <td>2009</td>\n",
              "      <td>Medium</td>\n",
              "      <td>Tier 3</td>\n",
              "      <td>Supermarket Type2</td>\n",
              "      <td>1845.5976</td>\n",
              "    </tr>\n",
              "    <tr>\n",
              "      <th>8522</th>\n",
              "      <td>DRG01</td>\n",
              "      <td>14.800</td>\n",
              "      <td>Low Fat</td>\n",
              "      <td>0.044878</td>\n",
              "      <td>Soft Drinks</td>\n",
              "      <td>75.4670</td>\n",
              "      <td>OUT046</td>\n",
              "      <td>1997</td>\n",
              "      <td>Small</td>\n",
              "      <td>Tier 1</td>\n",
              "      <td>Supermarket Type1</td>\n",
              "      <td>765.6700</td>\n",
              "    </tr>\n",
              "  </tbody>\n",
              "</table>\n",
              "<p>8523 rows × 12 columns</p>\n",
              "</div>\n",
              "      <button class=\"colab-df-convert\" onclick=\"convertToInteractive('df-8be95ecc-82d6-466a-acd0-a17e5cb31c5a')\"\n",
              "              title=\"Convert this dataframe to an interactive table.\"\n",
              "              style=\"display:none;\">\n",
              "        \n",
              "  <svg xmlns=\"http://www.w3.org/2000/svg\" height=\"24px\"viewBox=\"0 0 24 24\"\n",
              "       width=\"24px\">\n",
              "    <path d=\"M0 0h24v24H0V0z\" fill=\"none\"/>\n",
              "    <path d=\"M18.56 5.44l.94 2.06.94-2.06 2.06-.94-2.06-.94-.94-2.06-.94 2.06-2.06.94zm-11 1L8.5 8.5l.94-2.06 2.06-.94-2.06-.94L8.5 2.5l-.94 2.06-2.06.94zm10 10l.94 2.06.94-2.06 2.06-.94-2.06-.94-.94-2.06-.94 2.06-2.06.94z\"/><path d=\"M17.41 7.96l-1.37-1.37c-.4-.4-.92-.59-1.43-.59-.52 0-1.04.2-1.43.59L10.3 9.45l-7.72 7.72c-.78.78-.78 2.05 0 2.83L4 21.41c.39.39.9.59 1.41.59.51 0 1.02-.2 1.41-.59l7.78-7.78 2.81-2.81c.8-.78.8-2.07 0-2.86zM5.41 20L4 18.59l7.72-7.72 1.47 1.35L5.41 20z\"/>\n",
              "  </svg>\n",
              "      </button>\n",
              "      \n",
              "  <style>\n",
              "    .colab-df-container {\n",
              "      display:flex;\n",
              "      flex-wrap:wrap;\n",
              "      gap: 12px;\n",
              "    }\n",
              "\n",
              "    .colab-df-convert {\n",
              "      background-color: #E8F0FE;\n",
              "      border: none;\n",
              "      border-radius: 50%;\n",
              "      cursor: pointer;\n",
              "      display: none;\n",
              "      fill: #1967D2;\n",
              "      height: 32px;\n",
              "      padding: 0 0 0 0;\n",
              "      width: 32px;\n",
              "    }\n",
              "\n",
              "    .colab-df-convert:hover {\n",
              "      background-color: #E2EBFA;\n",
              "      box-shadow: 0px 1px 2px rgba(60, 64, 67, 0.3), 0px 1px 3px 1px rgba(60, 64, 67, 0.15);\n",
              "      fill: #174EA6;\n",
              "    }\n",
              "\n",
              "    [theme=dark] .colab-df-convert {\n",
              "      background-color: #3B4455;\n",
              "      fill: #D2E3FC;\n",
              "    }\n",
              "\n",
              "    [theme=dark] .colab-df-convert:hover {\n",
              "      background-color: #434B5C;\n",
              "      box-shadow: 0px 1px 3px 1px rgba(0, 0, 0, 0.15);\n",
              "      filter: drop-shadow(0px 1px 2px rgba(0, 0, 0, 0.3));\n",
              "      fill: #FFFFFF;\n",
              "    }\n",
              "  </style>\n",
              "\n",
              "      <script>\n",
              "        const buttonEl =\n",
              "          document.querySelector('#df-8be95ecc-82d6-466a-acd0-a17e5cb31c5a button.colab-df-convert');\n",
              "        buttonEl.style.display =\n",
              "          google.colab.kernel.accessAllowed ? 'block' : 'none';\n",
              "\n",
              "        async function convertToInteractive(key) {\n",
              "          const element = document.querySelector('#df-8be95ecc-82d6-466a-acd0-a17e5cb31c5a');\n",
              "          const dataTable =\n",
              "            await google.colab.kernel.invokeFunction('convertToInteractive',\n",
              "                                                     [key], {});\n",
              "          if (!dataTable) return;\n",
              "\n",
              "          const docLinkHtml = 'Like what you see? Visit the ' +\n",
              "            '<a target=\"_blank\" href=https://colab.research.google.com/notebooks/data_table.ipynb>data table notebook</a>'\n",
              "            + ' to learn more about interactive tables.';\n",
              "          element.innerHTML = '';\n",
              "          dataTable['output_type'] = 'display_data';\n",
              "          await google.colab.output.renderOutput(dataTable, element);\n",
              "          const docLink = document.createElement('div');\n",
              "          docLink.innerHTML = docLinkHtml;\n",
              "          element.appendChild(docLink);\n",
              "        }\n",
              "      </script>\n",
              "    </div>\n",
              "  </div>\n",
              "  "
            ]
          },
          "metadata": {},
          "execution_count": 5
        }
      ]
    },
    {
      "cell_type": "code",
      "source": [
        "df = pd.read_csv(filename) # This line of code reduces the addressable dataset to a simpler variable \"df\" "
      ],
      "metadata": {
        "id": "Tj94vKpc-sXP"
      },
      "execution_count": 6,
      "outputs": []
    },
    {
      "cell_type": "code",
      "source": [
        "df.head() # This line of code allows me to look at just the 5 top rows of my df to inspect my data"
      ],
      "metadata": {
        "colab": {
          "base_uri": "https://localhost:8080/",
          "height": 357
        },
        "id": "uJu1Pgzz_JJY",
        "outputId": "48460ffd-c69b-42b7-9b3c-de2ec948d264"
      },
      "execution_count": 7,
      "outputs": [
        {
          "output_type": "execute_result",
          "data": {
            "text/plain": [
              "  Item_Identifier  Item_Weight Item_Fat_Content  Item_Visibility  \\\n",
              "0           FDA15         9.30          Low Fat         0.016047   \n",
              "1           DRC01         5.92          Regular         0.019278   \n",
              "2           FDN15        17.50          Low Fat         0.016760   \n",
              "3           FDX07        19.20          Regular         0.000000   \n",
              "4           NCD19         8.93          Low Fat         0.000000   \n",
              "\n",
              "               Item_Type  Item_MRP Outlet_Identifier  \\\n",
              "0                  Dairy  249.8092            OUT049   \n",
              "1            Soft Drinks   48.2692            OUT018   \n",
              "2                   Meat  141.6180            OUT049   \n",
              "3  Fruits and Vegetables  182.0950            OUT010   \n",
              "4              Household   53.8614            OUT013   \n",
              "\n",
              "   Outlet_Establishment_Year Outlet_Size Outlet_Location_Type  \\\n",
              "0                       1999      Medium               Tier 1   \n",
              "1                       2009      Medium               Tier 3   \n",
              "2                       1999      Medium               Tier 1   \n",
              "3                       1998         NaN               Tier 3   \n",
              "4                       1987        High               Tier 3   \n",
              "\n",
              "         Outlet_Type  Item_Outlet_Sales  \n",
              "0  Supermarket Type1          3735.1380  \n",
              "1  Supermarket Type2           443.4228  \n",
              "2  Supermarket Type1          2097.2700  \n",
              "3      Grocery Store           732.3800  \n",
              "4  Supermarket Type1           994.7052  "
            ],
            "text/html": [
              "\n",
              "  <div id=\"df-0d85b815-028a-416d-9a18-96fb50372ae7\">\n",
              "    <div class=\"colab-df-container\">\n",
              "      <div>\n",
              "<style scoped>\n",
              "    .dataframe tbody tr th:only-of-type {\n",
              "        vertical-align: middle;\n",
              "    }\n",
              "\n",
              "    .dataframe tbody tr th {\n",
              "        vertical-align: top;\n",
              "    }\n",
              "\n",
              "    .dataframe thead th {\n",
              "        text-align: right;\n",
              "    }\n",
              "</style>\n",
              "<table border=\"1\" class=\"dataframe\">\n",
              "  <thead>\n",
              "    <tr style=\"text-align: right;\">\n",
              "      <th></th>\n",
              "      <th>Item_Identifier</th>\n",
              "      <th>Item_Weight</th>\n",
              "      <th>Item_Fat_Content</th>\n",
              "      <th>Item_Visibility</th>\n",
              "      <th>Item_Type</th>\n",
              "      <th>Item_MRP</th>\n",
              "      <th>Outlet_Identifier</th>\n",
              "      <th>Outlet_Establishment_Year</th>\n",
              "      <th>Outlet_Size</th>\n",
              "      <th>Outlet_Location_Type</th>\n",
              "      <th>Outlet_Type</th>\n",
              "      <th>Item_Outlet_Sales</th>\n",
              "    </tr>\n",
              "  </thead>\n",
              "  <tbody>\n",
              "    <tr>\n",
              "      <th>0</th>\n",
              "      <td>FDA15</td>\n",
              "      <td>9.30</td>\n",
              "      <td>Low Fat</td>\n",
              "      <td>0.016047</td>\n",
              "      <td>Dairy</td>\n",
              "      <td>249.8092</td>\n",
              "      <td>OUT049</td>\n",
              "      <td>1999</td>\n",
              "      <td>Medium</td>\n",
              "      <td>Tier 1</td>\n",
              "      <td>Supermarket Type1</td>\n",
              "      <td>3735.1380</td>\n",
              "    </tr>\n",
              "    <tr>\n",
              "      <th>1</th>\n",
              "      <td>DRC01</td>\n",
              "      <td>5.92</td>\n",
              "      <td>Regular</td>\n",
              "      <td>0.019278</td>\n",
              "      <td>Soft Drinks</td>\n",
              "      <td>48.2692</td>\n",
              "      <td>OUT018</td>\n",
              "      <td>2009</td>\n",
              "      <td>Medium</td>\n",
              "      <td>Tier 3</td>\n",
              "      <td>Supermarket Type2</td>\n",
              "      <td>443.4228</td>\n",
              "    </tr>\n",
              "    <tr>\n",
              "      <th>2</th>\n",
              "      <td>FDN15</td>\n",
              "      <td>17.50</td>\n",
              "      <td>Low Fat</td>\n",
              "      <td>0.016760</td>\n",
              "      <td>Meat</td>\n",
              "      <td>141.6180</td>\n",
              "      <td>OUT049</td>\n",
              "      <td>1999</td>\n",
              "      <td>Medium</td>\n",
              "      <td>Tier 1</td>\n",
              "      <td>Supermarket Type1</td>\n",
              "      <td>2097.2700</td>\n",
              "    </tr>\n",
              "    <tr>\n",
              "      <th>3</th>\n",
              "      <td>FDX07</td>\n",
              "      <td>19.20</td>\n",
              "      <td>Regular</td>\n",
              "      <td>0.000000</td>\n",
              "      <td>Fruits and Vegetables</td>\n",
              "      <td>182.0950</td>\n",
              "      <td>OUT010</td>\n",
              "      <td>1998</td>\n",
              "      <td>NaN</td>\n",
              "      <td>Tier 3</td>\n",
              "      <td>Grocery Store</td>\n",
              "      <td>732.3800</td>\n",
              "    </tr>\n",
              "    <tr>\n",
              "      <th>4</th>\n",
              "      <td>NCD19</td>\n",
              "      <td>8.93</td>\n",
              "      <td>Low Fat</td>\n",
              "      <td>0.000000</td>\n",
              "      <td>Household</td>\n",
              "      <td>53.8614</td>\n",
              "      <td>OUT013</td>\n",
              "      <td>1987</td>\n",
              "      <td>High</td>\n",
              "      <td>Tier 3</td>\n",
              "      <td>Supermarket Type1</td>\n",
              "      <td>994.7052</td>\n",
              "    </tr>\n",
              "  </tbody>\n",
              "</table>\n",
              "</div>\n",
              "      <button class=\"colab-df-convert\" onclick=\"convertToInteractive('df-0d85b815-028a-416d-9a18-96fb50372ae7')\"\n",
              "              title=\"Convert this dataframe to an interactive table.\"\n",
              "              style=\"display:none;\">\n",
              "        \n",
              "  <svg xmlns=\"http://www.w3.org/2000/svg\" height=\"24px\"viewBox=\"0 0 24 24\"\n",
              "       width=\"24px\">\n",
              "    <path d=\"M0 0h24v24H0V0z\" fill=\"none\"/>\n",
              "    <path d=\"M18.56 5.44l.94 2.06.94-2.06 2.06-.94-2.06-.94-.94-2.06-.94 2.06-2.06.94zm-11 1L8.5 8.5l.94-2.06 2.06-.94-2.06-.94L8.5 2.5l-.94 2.06-2.06.94zm10 10l.94 2.06.94-2.06 2.06-.94-2.06-.94-.94-2.06-.94 2.06-2.06.94z\"/><path d=\"M17.41 7.96l-1.37-1.37c-.4-.4-.92-.59-1.43-.59-.52 0-1.04.2-1.43.59L10.3 9.45l-7.72 7.72c-.78.78-.78 2.05 0 2.83L4 21.41c.39.39.9.59 1.41.59.51 0 1.02-.2 1.41-.59l7.78-7.78 2.81-2.81c.8-.78.8-2.07 0-2.86zM5.41 20L4 18.59l7.72-7.72 1.47 1.35L5.41 20z\"/>\n",
              "  </svg>\n",
              "      </button>\n",
              "      \n",
              "  <style>\n",
              "    .colab-df-container {\n",
              "      display:flex;\n",
              "      flex-wrap:wrap;\n",
              "      gap: 12px;\n",
              "    }\n",
              "\n",
              "    .colab-df-convert {\n",
              "      background-color: #E8F0FE;\n",
              "      border: none;\n",
              "      border-radius: 50%;\n",
              "      cursor: pointer;\n",
              "      display: none;\n",
              "      fill: #1967D2;\n",
              "      height: 32px;\n",
              "      padding: 0 0 0 0;\n",
              "      width: 32px;\n",
              "    }\n",
              "\n",
              "    .colab-df-convert:hover {\n",
              "      background-color: #E2EBFA;\n",
              "      box-shadow: 0px 1px 2px rgba(60, 64, 67, 0.3), 0px 1px 3px 1px rgba(60, 64, 67, 0.15);\n",
              "      fill: #174EA6;\n",
              "    }\n",
              "\n",
              "    [theme=dark] .colab-df-convert {\n",
              "      background-color: #3B4455;\n",
              "      fill: #D2E3FC;\n",
              "    }\n",
              "\n",
              "    [theme=dark] .colab-df-convert:hover {\n",
              "      background-color: #434B5C;\n",
              "      box-shadow: 0px 1px 3px 1px rgba(0, 0, 0, 0.15);\n",
              "      filter: drop-shadow(0px 1px 2px rgba(0, 0, 0, 0.3));\n",
              "      fill: #FFFFFF;\n",
              "    }\n",
              "  </style>\n",
              "\n",
              "      <script>\n",
              "        const buttonEl =\n",
              "          document.querySelector('#df-0d85b815-028a-416d-9a18-96fb50372ae7 button.colab-df-convert');\n",
              "        buttonEl.style.display =\n",
              "          google.colab.kernel.accessAllowed ? 'block' : 'none';\n",
              "\n",
              "        async function convertToInteractive(key) {\n",
              "          const element = document.querySelector('#df-0d85b815-028a-416d-9a18-96fb50372ae7');\n",
              "          const dataTable =\n",
              "            await google.colab.kernel.invokeFunction('convertToInteractive',\n",
              "                                                     [key], {});\n",
              "          if (!dataTable) return;\n",
              "\n",
              "          const docLinkHtml = 'Like what you see? Visit the ' +\n",
              "            '<a target=\"_blank\" href=https://colab.research.google.com/notebooks/data_table.ipynb>data table notebook</a>'\n",
              "            + ' to learn more about interactive tables.';\n",
              "          element.innerHTML = '';\n",
              "          dataTable['output_type'] = 'display_data';\n",
              "          await google.colab.output.renderOutput(dataTable, element);\n",
              "          const docLink = document.createElement('div');\n",
              "          docLink.innerHTML = docLinkHtml;\n",
              "          element.appendChild(docLink);\n",
              "        }\n",
              "      </script>\n",
              "    </div>\n",
              "  </div>\n",
              "  "
            ]
          },
          "metadata": {},
          "execution_count": 7
        }
      ]
    },
    {
      "cell_type": "markdown",
      "source": [
        "##Data Table"
      ],
      "metadata": {
        "id": "u4sXpBJPNIEd"
      }
    },
    {
      "cell_type": "markdown",
      "source": [
        "![Project 1 part 1 Data Definitions IMG.png](data:image/png;base64,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)"
      ],
      "metadata": {
        "id": "Op3gWiNWLq6Z"
      }
    },
    {
      "cell_type": "code",
      "source": [
        "df.value_counts() # this line of code yields the unique values inside this dataframe"
      ],
      "metadata": {
        "colab": {
          "base_uri": "https://localhost:8080/"
        },
        "id": "7EfH_58M_tC8",
        "outputId": "63b4f718-b6df-493f-efa3-6cc6017de1d5"
      },
      "execution_count": 8,
      "outputs": [
        {
          "output_type": "execute_result",
          "data": {
            "text/plain": [
              "Item_Identifier  Item_Weight  Item_Fat_Content  Item_Visibility  Item_Type     Item_MRP  Outlet_Identifier  Outlet_Establishment_Year  Outlet_Size  Outlet_Location_Type  Outlet_Type        Item_Outlet_Sales\n",
              "DRA12            11.600       LF                0.000000         Soft Drinks   141.9154  OUT035             2004                       Small        Tier 2                Supermarket Type1  992.7078             1\n",
              "FDV35            19.500       Low Fat           0.128182         Breads        156.1314  OUT035             2004                       Small        Tier 2                Supermarket Type1  2792.3652            1\n",
              "FDV25            5.905        low fat           0.045614         Canned        221.5456  OUT013             1987                       High         Tier 3                Supermarket Type1  6852.4136            1\n",
              "                              Low Fat           0.045838         Canned        222.5456  OUT018             2009                       Medium       Tier 3                Supermarket Type2  3315.6840            1\n",
              "                                                0.045723         Canned        222.1456  OUT049             1999                       Medium       Tier 1                Supermarket Type1  5747.1856            1\n",
              "                                                                                                                                                                                                                 ..\n",
              "FDJ16            9.195        Low Fat           0.115064         Frozen Foods  58.6246   OUT049             1999                       Medium       Tier 1                Supermarket Type1  868.8690             1\n",
              "                                                0.114886         Frozen Foods  59.6246   OUT046             1997                       Small        Tier 1                Supermarket Type1  1100.5674            1\n",
              "                              LF                0.114864         Frozen Foods  59.0246   OUT035             2004                       Small        Tier 2                Supermarket Type1  1853.5872            1\n",
              "FDJ15            11.350       Regular           0.023359         Dairy         184.4608  OUT049             1999                       Medium       Tier 1                Supermarket Type1  4042.7376            1\n",
              "NCZ54            14.650       Low Fat           0.083699         Household     163.4552  OUT018             2009                       Medium       Tier 3                Supermarket Type2  2599.2832            1\n",
              "Length: 4650, dtype: int64"
            ]
          },
          "metadata": {},
          "execution_count": 8
        }
      ]
    },
    {
      "cell_type": "code",
      "source": [
        "df.info() # this yields the number of rows and columns uncleaned and will tell me which columns have missing data, fewer than 8523 entries means missing data"
      ],
      "metadata": {
        "colab": {
          "base_uri": "https://localhost:8080/"
        },
        "id": "V47Oq-t9_0sx",
        "outputId": "349ad04f-0a7f-4a09-b35d-d6ea230db9ae"
      },
      "execution_count": 9,
      "outputs": [
        {
          "output_type": "stream",
          "name": "stdout",
          "text": [
            "<class 'pandas.core.frame.DataFrame'>\n",
            "RangeIndex: 8523 entries, 0 to 8522\n",
            "Data columns (total 12 columns):\n",
            " #   Column                     Non-Null Count  Dtype  \n",
            "---  ------                     --------------  -----  \n",
            " 0   Item_Identifier            8523 non-null   object \n",
            " 1   Item_Weight                7060 non-null   float64\n",
            " 2   Item_Fat_Content           8523 non-null   object \n",
            " 3   Item_Visibility            8523 non-null   float64\n",
            " 4   Item_Type                  8523 non-null   object \n",
            " 5   Item_MRP                   8523 non-null   float64\n",
            " 6   Outlet_Identifier          8523 non-null   object \n",
            " 7   Outlet_Establishment_Year  8523 non-null   int64  \n",
            " 8   Outlet_Size                6113 non-null   object \n",
            " 9   Outlet_Location_Type       8523 non-null   object \n",
            " 10  Outlet_Type                8523 non-null   object \n",
            " 11  Item_Outlet_Sales          8523 non-null   float64\n",
            "dtypes: float64(4), int64(1), object(7)\n",
            "memory usage: 799.2+ KB\n"
          ]
        }
      ]
    },
    {
      "cell_type": "code",
      "source": [
        "df.dtypes # tells me which datatypes consist of objects or floats"
      ],
      "metadata": {
        "colab": {
          "base_uri": "https://localhost:8080/"
        },
        "id": "eLvzjtqrAxbp",
        "outputId": "53defbd6-3e47-40ae-fffa-e576ba8cc286"
      },
      "execution_count": 10,
      "outputs": [
        {
          "output_type": "execute_result",
          "data": {
            "text/plain": [
              "Item_Identifier               object\n",
              "Item_Weight                  float64\n",
              "Item_Fat_Content              object\n",
              "Item_Visibility              float64\n",
              "Item_Type                     object\n",
              "Item_MRP                     float64\n",
              "Outlet_Identifier             object\n",
              "Outlet_Establishment_Year      int64\n",
              "Outlet_Size                   object\n",
              "Outlet_Location_Type          object\n",
              "Outlet_Type                   object\n",
              "Item_Outlet_Sales            float64\n",
              "dtype: object"
            ]
          },
          "metadata": {},
          "execution_count": 10
        }
      ]
    },
    {
      "cell_type": "code",
      "source": [
        "df.duplicated() # this checks for duplicates inside of my dataframe"
      ],
      "metadata": {
        "colab": {
          "base_uri": "https://localhost:8080/"
        },
        "id": "RYNoeFjgBCPk",
        "outputId": "06292785-fd81-4b0e-e081-e724c01e4353"
      },
      "execution_count": 11,
      "outputs": [
        {
          "output_type": "execute_result",
          "data": {
            "text/plain": [
              "0       False\n",
              "1       False\n",
              "2       False\n",
              "3       False\n",
              "4       False\n",
              "        ...  \n",
              "8518    False\n",
              "8519    False\n",
              "8520    False\n",
              "8521    False\n",
              "8522    False\n",
              "Length: 8523, dtype: bool"
            ]
          },
          "metadata": {},
          "execution_count": 11
        }
      ]
    },
    {
      "cell_type": "code",
      "source": [
        "df.duplicated().sum() # this tells me there are no duplicates within the dataset"
      ],
      "metadata": {
        "colab": {
          "base_uri": "https://localhost:8080/"
        },
        "id": "CufR5tbNBXKh",
        "outputId": "b03f1eb7-45d5-47e0-bd87-4c04d88994e9"
      },
      "execution_count": 12,
      "outputs": [
        {
          "output_type": "execute_result",
          "data": {
            "text/plain": [
              "0"
            ]
          },
          "metadata": {},
          "execution_count": 12
        }
      ]
    },
    {
      "cell_type": "code",
      "source": [
        "df.nunique() #  will tell us how many unique values are in each column"
      ],
      "metadata": {
        "colab": {
          "base_uri": "https://localhost:8080/"
        },
        "id": "PNheuhewBkHw",
        "outputId": "11e4ae89-b9f3-4498-fa97-f3d712038749"
      },
      "execution_count": 13,
      "outputs": [
        {
          "output_type": "execute_result",
          "data": {
            "text/plain": [
              "Item_Identifier              1559\n",
              "Item_Weight                   415\n",
              "Item_Fat_Content                5\n",
              "Item_Visibility              7880\n",
              "Item_Type                      16\n",
              "Item_MRP                     5938\n",
              "Outlet_Identifier              10\n",
              "Outlet_Establishment_Year       9\n",
              "Outlet_Size                     3\n",
              "Outlet_Location_Type            3\n",
              "Outlet_Type                     4\n",
              "Item_Outlet_Sales            3493\n",
              "dtype: int64"
            ]
          },
          "metadata": {},
          "execution_count": 13
        }
      ]
    },
    {
      "cell_type": "code",
      "source": [
        "len(df.columns) # this yields the number of columns "
      ],
      "metadata": {
        "colab": {
          "base_uri": "https://localhost:8080/"
        },
        "id": "Bg7YMIlJCdkK",
        "outputId": "714f8694-8663-4280-92ec-279038521e0f"
      },
      "execution_count": 14,
      "outputs": [
        {
          "output_type": "execute_result",
          "data": {
            "text/plain": [
              "12"
            ]
          },
          "metadata": {},
          "execution_count": 14
        }
      ]
    },
    {
      "cell_type": "code",
      "source": [
        "len(df) # this yields the number of rows as it reads the info from the top down"
      ],
      "metadata": {
        "colab": {
          "base_uri": "https://localhost:8080/"
        },
        "id": "Jd3741IyClCm",
        "outputId": "d960d0de-996e-4e47-a8b2-7a15ba7f23df"
      },
      "execution_count": 15,
      "outputs": [
        {
          "output_type": "execute_result",
          "data": {
            "text/plain": [
              "8523"
            ]
          },
          "metadata": {},
          "execution_count": 15
        }
      ]
    },
    {
      "cell_type": "code",
      "source": [
        "print(df.shape) # This line of code is used to identify how many rows and columns"
      ],
      "metadata": {
        "colab": {
          "base_uri": "https://localhost:8080/"
        },
        "id": "GQq5smdv-Cta",
        "outputId": "a34cf979-da62-43f0-e983-e78e81a93d46"
      },
      "execution_count": 16,
      "outputs": [
        {
          "output_type": "stream",
          "name": "stdout",
          "text": [
            "(8523, 12)\n"
          ]
        }
      ]
    },
    {
      "cell_type": "code",
      "source": [
        "print(f\"There are {df.shape[0]} rows, and there are {df.shape[1]} columns in our dataframe\") # this line of code is designed to be able to explain our analysis from the previous line of code"
      ],
      "metadata": {
        "colab": {
          "base_uri": "https://localhost:8080/"
        },
        "id": "WW064KnWDXe8",
        "outputId": "ccf0aad3-d99a-4f3d-c5d9-44bd49a65227"
      },
      "execution_count": 17,
      "outputs": [
        {
          "output_type": "stream",
          "name": "stdout",
          "text": [
            "There are 8523 rows, and there are 12 columns in our dataframe\n"
          ]
        }
      ]
    },
    {
      "cell_type": "code",
      "source": [
        "df.isna() # this helps me to identify missing values, they will show as true in a boolean value"
      ],
      "metadata": {
        "colab": {
          "base_uri": "https://localhost:8080/",
          "height": 487
        },
        "id": "hVU7n30zKnwf",
        "outputId": "4c4707a4-7e73-4621-ca7c-a2e8ea2315af"
      },
      "execution_count": 18,
      "outputs": [
        {
          "output_type": "execute_result",
          "data": {
            "text/plain": [
              "      Item_Identifier  Item_Weight  Item_Fat_Content  Item_Visibility  \\\n",
              "0               False        False             False            False   \n",
              "1               False        False             False            False   \n",
              "2               False        False             False            False   \n",
              "3               False        False             False            False   \n",
              "4               False        False             False            False   \n",
              "...               ...          ...               ...              ...   \n",
              "8518            False        False             False            False   \n",
              "8519            False        False             False            False   \n",
              "8520            False        False             False            False   \n",
              "8521            False        False             False            False   \n",
              "8522            False        False             False            False   \n",
              "\n",
              "      Item_Type  Item_MRP  Outlet_Identifier  Outlet_Establishment_Year  \\\n",
              "0         False     False              False                      False   \n",
              "1         False     False              False                      False   \n",
              "2         False     False              False                      False   \n",
              "3         False     False              False                      False   \n",
              "4         False     False              False                      False   \n",
              "...         ...       ...                ...                        ...   \n",
              "8518      False     False              False                      False   \n",
              "8519      False     False              False                      False   \n",
              "8520      False     False              False                      False   \n",
              "8521      False     False              False                      False   \n",
              "8522      False     False              False                      False   \n",
              "\n",
              "      Outlet_Size  Outlet_Location_Type  Outlet_Type  Item_Outlet_Sales  \n",
              "0           False                 False        False              False  \n",
              "1           False                 False        False              False  \n",
              "2           False                 False        False              False  \n",
              "3            True                 False        False              False  \n",
              "4           False                 False        False              False  \n",
              "...           ...                   ...          ...                ...  \n",
              "8518        False                 False        False              False  \n",
              "8519         True                 False        False              False  \n",
              "8520        False                 False        False              False  \n",
              "8521        False                 False        False              False  \n",
              "8522        False                 False        False              False  \n",
              "\n",
              "[8523 rows x 12 columns]"
            ],
            "text/html": [
              "\n",
              "  <div id=\"df-8e2836e9-b2a0-4c37-b571-772eed1df12d\">\n",
              "    <div class=\"colab-df-container\">\n",
              "      <div>\n",
              "<style scoped>\n",
              "    .dataframe tbody tr th:only-of-type {\n",
              "        vertical-align: middle;\n",
              "    }\n",
              "\n",
              "    .dataframe tbody tr th {\n",
              "        vertical-align: top;\n",
              "    }\n",
              "\n",
              "    .dataframe thead th {\n",
              "        text-align: right;\n",
              "    }\n",
              "</style>\n",
              "<table border=\"1\" class=\"dataframe\">\n",
              "  <thead>\n",
              "    <tr style=\"text-align: right;\">\n",
              "      <th></th>\n",
              "      <th>Item_Identifier</th>\n",
              "      <th>Item_Weight</th>\n",
              "      <th>Item_Fat_Content</th>\n",
              "      <th>Item_Visibility</th>\n",
              "      <th>Item_Type</th>\n",
              "      <th>Item_MRP</th>\n",
              "      <th>Outlet_Identifier</th>\n",
              "      <th>Outlet_Establishment_Year</th>\n",
              "      <th>Outlet_Size</th>\n",
              "      <th>Outlet_Location_Type</th>\n",
              "      <th>Outlet_Type</th>\n",
              "      <th>Item_Outlet_Sales</th>\n",
              "    </tr>\n",
              "  </thead>\n",
              "  <tbody>\n",
              "    <tr>\n",
              "      <th>0</th>\n",
              "      <td>False</td>\n",
              "      <td>False</td>\n",
              "      <td>False</td>\n",
              "      <td>False</td>\n",
              "      <td>False</td>\n",
              "      <td>False</td>\n",
              "      <td>False</td>\n",
              "      <td>False</td>\n",
              "      <td>False</td>\n",
              "      <td>False</td>\n",
              "      <td>False</td>\n",
              "      <td>False</td>\n",
              "    </tr>\n",
              "    <tr>\n",
              "      <th>1</th>\n",
              "      <td>False</td>\n",
              "      <td>False</td>\n",
              "      <td>False</td>\n",
              "      <td>False</td>\n",
              "      <td>False</td>\n",
              "      <td>False</td>\n",
              "      <td>False</td>\n",
              "      <td>False</td>\n",
              "      <td>False</td>\n",
              "      <td>False</td>\n",
              "      <td>False</td>\n",
              "      <td>False</td>\n",
              "    </tr>\n",
              "    <tr>\n",
              "      <th>2</th>\n",
              "      <td>False</td>\n",
              "      <td>False</td>\n",
              "      <td>False</td>\n",
              "      <td>False</td>\n",
              "      <td>False</td>\n",
              "      <td>False</td>\n",
              "      <td>False</td>\n",
              "      <td>False</td>\n",
              "      <td>False</td>\n",
              "      <td>False</td>\n",
              "      <td>False</td>\n",
              "      <td>False</td>\n",
              "    </tr>\n",
              "    <tr>\n",
              "      <th>3</th>\n",
              "      <td>False</td>\n",
              "      <td>False</td>\n",
              "      <td>False</td>\n",
              "      <td>False</td>\n",
              "      <td>False</td>\n",
              "      <td>False</td>\n",
              "      <td>False</td>\n",
              "      <td>False</td>\n",
              "      <td>True</td>\n",
              "      <td>False</td>\n",
              "      <td>False</td>\n",
              "      <td>False</td>\n",
              "    </tr>\n",
              "    <tr>\n",
              "      <th>4</th>\n",
              "      <td>False</td>\n",
              "      <td>False</td>\n",
              "      <td>False</td>\n",
              "      <td>False</td>\n",
              "      <td>False</td>\n",
              "      <td>False</td>\n",
              "      <td>False</td>\n",
              "      <td>False</td>\n",
              "      <td>False</td>\n",
              "      <td>False</td>\n",
              "      <td>False</td>\n",
              "      <td>False</td>\n",
              "    </tr>\n",
              "    <tr>\n",
              "      <th>...</th>\n",
              "      <td>...</td>\n",
              "      <td>...</td>\n",
              "      <td>...</td>\n",
              "      <td>...</td>\n",
              "      <td>...</td>\n",
              "      <td>...</td>\n",
              "      <td>...</td>\n",
              "      <td>...</td>\n",
              "      <td>...</td>\n",
              "      <td>...</td>\n",
              "      <td>...</td>\n",
              "      <td>...</td>\n",
              "    </tr>\n",
              "    <tr>\n",
              "      <th>8518</th>\n",
              "      <td>False</td>\n",
              "      <td>False</td>\n",
              "      <td>False</td>\n",
              "      <td>False</td>\n",
              "      <td>False</td>\n",
              "      <td>False</td>\n",
              "      <td>False</td>\n",
              "      <td>False</td>\n",
              "      <td>False</td>\n",
              "      <td>False</td>\n",
              "      <td>False</td>\n",
              "      <td>False</td>\n",
              "    </tr>\n",
              "    <tr>\n",
              "      <th>8519</th>\n",
              "      <td>False</td>\n",
              "      <td>False</td>\n",
              "      <td>False</td>\n",
              "      <td>False</td>\n",
              "      <td>False</td>\n",
              "      <td>False</td>\n",
              "      <td>False</td>\n",
              "      <td>False</td>\n",
              "      <td>True</td>\n",
              "      <td>False</td>\n",
              "      <td>False</td>\n",
              "      <td>False</td>\n",
              "    </tr>\n",
              "    <tr>\n",
              "      <th>8520</th>\n",
              "      <td>False</td>\n",
              "      <td>False</td>\n",
              "      <td>False</td>\n",
              "      <td>False</td>\n",
              "      <td>False</td>\n",
              "      <td>False</td>\n",
              "      <td>False</td>\n",
              "      <td>False</td>\n",
              "      <td>False</td>\n",
              "      <td>False</td>\n",
              "      <td>False</td>\n",
              "      <td>False</td>\n",
              "    </tr>\n",
              "    <tr>\n",
              "      <th>8521</th>\n",
              "      <td>False</td>\n",
              "      <td>False</td>\n",
              "      <td>False</td>\n",
              "      <td>False</td>\n",
              "      <td>False</td>\n",
              "      <td>False</td>\n",
              "      <td>False</td>\n",
              "      <td>False</td>\n",
              "      <td>False</td>\n",
              "      <td>False</td>\n",
              "      <td>False</td>\n",
              "      <td>False</td>\n",
              "    </tr>\n",
              "    <tr>\n",
              "      <th>8522</th>\n",
              "      <td>False</td>\n",
              "      <td>False</td>\n",
              "      <td>False</td>\n",
              "      <td>False</td>\n",
              "      <td>False</td>\n",
              "      <td>False</td>\n",
              "      <td>False</td>\n",
              "      <td>False</td>\n",
              "      <td>False</td>\n",
              "      <td>False</td>\n",
              "      <td>False</td>\n",
              "      <td>False</td>\n",
              "    </tr>\n",
              "  </tbody>\n",
              "</table>\n",
              "<p>8523 rows × 12 columns</p>\n",
              "</div>\n",
              "      <button class=\"colab-df-convert\" onclick=\"convertToInteractive('df-8e2836e9-b2a0-4c37-b571-772eed1df12d')\"\n",
              "              title=\"Convert this dataframe to an interactive table.\"\n",
              "              style=\"display:none;\">\n",
              "        \n",
              "  <svg xmlns=\"http://www.w3.org/2000/svg\" height=\"24px\"viewBox=\"0 0 24 24\"\n",
              "       width=\"24px\">\n",
              "    <path d=\"M0 0h24v24H0V0z\" fill=\"none\"/>\n",
              "    <path d=\"M18.56 5.44l.94 2.06.94-2.06 2.06-.94-2.06-.94-.94-2.06-.94 2.06-2.06.94zm-11 1L8.5 8.5l.94-2.06 2.06-.94-2.06-.94L8.5 2.5l-.94 2.06-2.06.94zm10 10l.94 2.06.94-2.06 2.06-.94-2.06-.94-.94-2.06-.94 2.06-2.06.94z\"/><path d=\"M17.41 7.96l-1.37-1.37c-.4-.4-.92-.59-1.43-.59-.52 0-1.04.2-1.43.59L10.3 9.45l-7.72 7.72c-.78.78-.78 2.05 0 2.83L4 21.41c.39.39.9.59 1.41.59.51 0 1.02-.2 1.41-.59l7.78-7.78 2.81-2.81c.8-.78.8-2.07 0-2.86zM5.41 20L4 18.59l7.72-7.72 1.47 1.35L5.41 20z\"/>\n",
              "  </svg>\n",
              "      </button>\n",
              "      \n",
              "  <style>\n",
              "    .colab-df-container {\n",
              "      display:flex;\n",
              "      flex-wrap:wrap;\n",
              "      gap: 12px;\n",
              "    }\n",
              "\n",
              "    .colab-df-convert {\n",
              "      background-color: #E8F0FE;\n",
              "      border: none;\n",
              "      border-radius: 50%;\n",
              "      cursor: pointer;\n",
              "      display: none;\n",
              "      fill: #1967D2;\n",
              "      height: 32px;\n",
              "      padding: 0 0 0 0;\n",
              "      width: 32px;\n",
              "    }\n",
              "\n",
              "    .colab-df-convert:hover {\n",
              "      background-color: #E2EBFA;\n",
              "      box-shadow: 0px 1px 2px rgba(60, 64, 67, 0.3), 0px 1px 3px 1px rgba(60, 64, 67, 0.15);\n",
              "      fill: #174EA6;\n",
              "    }\n",
              "\n",
              "    [theme=dark] .colab-df-convert {\n",
              "      background-color: #3B4455;\n",
              "      fill: #D2E3FC;\n",
              "    }\n",
              "\n",
              "    [theme=dark] .colab-df-convert:hover {\n",
              "      background-color: #434B5C;\n",
              "      box-shadow: 0px 1px 3px 1px rgba(0, 0, 0, 0.15);\n",
              "      filter: drop-shadow(0px 1px 2px rgba(0, 0, 0, 0.3));\n",
              "      fill: #FFFFFF;\n",
              "    }\n",
              "  </style>\n",
              "\n",
              "      <script>\n",
              "        const buttonEl =\n",
              "          document.querySelector('#df-8e2836e9-b2a0-4c37-b571-772eed1df12d button.colab-df-convert');\n",
              "        buttonEl.style.display =\n",
              "          google.colab.kernel.accessAllowed ? 'block' : 'none';\n",
              "\n",
              "        async function convertToInteractive(key) {\n",
              "          const element = document.querySelector('#df-8e2836e9-b2a0-4c37-b571-772eed1df12d');\n",
              "          const dataTable =\n",
              "            await google.colab.kernel.invokeFunction('convertToInteractive',\n",
              "                                                     [key], {});\n",
              "          if (!dataTable) return;\n",
              "\n",
              "          const docLinkHtml = 'Like what you see? Visit the ' +\n",
              "            '<a target=\"_blank\" href=https://colab.research.google.com/notebooks/data_table.ipynb>data table notebook</a>'\n",
              "            + ' to learn more about interactive tables.';\n",
              "          element.innerHTML = '';\n",
              "          dataTable['output_type'] = 'display_data';\n",
              "          await google.colab.output.renderOutput(dataTable, element);\n",
              "          const docLink = document.createElement('div');\n",
              "          docLink.innerHTML = docLinkHtml;\n",
              "          element.appendChild(docLink);\n",
              "        }\n",
              "      </script>\n",
              "    </div>\n",
              "  </div>\n",
              "  "
            ]
          },
          "metadata": {},
          "execution_count": 18
        }
      ]
    },
    {
      "cell_type": "code",
      "source": [
        "df.isna().sum() # this yields for us the sum of all the missing values and their categories, so I can begin to decide what to do with the missing values"
      ],
      "metadata": {
        "colab": {
          "base_uri": "https://localhost:8080/"
        },
        "id": "Sdm6L1zeMWYm",
        "outputId": "84e996e3-6656-49e0-b23f-1d608f67621f"
      },
      "execution_count": 19,
      "outputs": [
        {
          "output_type": "execute_result",
          "data": {
            "text/plain": [
              "Item_Identifier                 0\n",
              "Item_Weight                  1463\n",
              "Item_Fat_Content                0\n",
              "Item_Visibility                 0\n",
              "Item_Type                       0\n",
              "Item_MRP                        0\n",
              "Outlet_Identifier               0\n",
              "Outlet_Establishment_Year       0\n",
              "Outlet_Size                  2410\n",
              "Outlet_Location_Type            0\n",
              "Outlet_Type                     0\n",
              "Item_Outlet_Sales               0\n",
              "dtype: int64"
            ]
          },
          "metadata": {},
          "execution_count": 19
        }
      ]
    },
    {
      "cell_type": "code",
      "source": [
        "avg_outlet = df[\"Outlet_Size\"].mode()\n",
        "avg_outlet # tells us the most occuring value in category of Outlet size, unable to get numerical avg since it is a category, I used mode to find themost commonly used category of sizes to fill in the missing data since I dont think it will skew relevant questions i may ask of the data"
      ],
      "metadata": {
        "colab": {
          "base_uri": "https://localhost:8080/"
        },
        "id": "dPEbt3uTMs1E",
        "outputId": "1af4cf09-f34d-40e0-c49a-11193210528d"
      },
      "execution_count": 20,
      "outputs": [
        {
          "output_type": "execute_result",
          "data": {
            "text/plain": [
              "0    Medium\n",
              "Name: Outlet_Size, dtype: object"
            ]
          },
          "metadata": {},
          "execution_count": 20
        }
      ]
    },
    {
      "cell_type": "code",
      "source": [
        "df.isna().sum() # This will provide both the missing values and the sum count"
      ],
      "metadata": {
        "colab": {
          "base_uri": "https://localhost:8080/"
        },
        "id": "yjPHcFvVXXge",
        "outputId": "96a1fa5d-196f-4527-a083-ca5f5a423990"
      },
      "execution_count": 21,
      "outputs": [
        {
          "output_type": "execute_result",
          "data": {
            "text/plain": [
              "Item_Identifier                 0\n",
              "Item_Weight                  1463\n",
              "Item_Fat_Content                0\n",
              "Item_Visibility                 0\n",
              "Item_Type                       0\n",
              "Item_MRP                        0\n",
              "Outlet_Identifier               0\n",
              "Outlet_Establishment_Year       0\n",
              "Outlet_Size                  2410\n",
              "Outlet_Location_Type            0\n",
              "Outlet_Type                     0\n",
              "Item_Outlet_Sales               0\n",
              "dtype: int64"
            ]
          },
          "metadata": {},
          "execution_count": 21
        }
      ]
    },
    {
      "cell_type": "code",
      "source": [
        "avg_outlet = df[\"Outlet_Size\"].mode() # this block of code will fill in the missing values and fill them in, make it stick for this df and then yield the remaining sum of any missing values\n",
        "df[\"Outlet_Size\"].fillna(avg_outlet, inplace=True)\n",
        "df.isna().sum()"
      ],
      "metadata": {
        "colab": {
          "base_uri": "https://localhost:8080/"
        },
        "id": "2isZgPwOXz0C",
        "outputId": "c99065ee-8db7-463b-8b82-8064e044ff1a"
      },
      "execution_count": 22,
      "outputs": [
        {
          "output_type": "execute_result",
          "data": {
            "text/plain": [
              "Item_Identifier                 0\n",
              "Item_Weight                  1463\n",
              "Item_Fat_Content                0\n",
              "Item_Visibility                 0\n",
              "Item_Type                       0\n",
              "Item_MRP                        0\n",
              "Outlet_Identifier               0\n",
              "Outlet_Establishment_Year       0\n",
              "Outlet_Size                  2410\n",
              "Outlet_Location_Type            0\n",
              "Outlet_Type                     0\n",
              "Item_Outlet_Sales               0\n",
              "dtype: int64"
            ]
          },
          "metadata": {},
          "execution_count": 22
        }
      ]
    },
    {
      "cell_type": "code",
      "source": [
        "avg_outlet = df[\"Outlet_Size\"].mode() # this line of code actually more cleanly carries the argument that replaces missing values with the mdoe and then locks them in\n",
        "df[\"Outlet_Size\"].fillna(\"Medium\", inplace=True)\n",
        "             "
      ],
      "metadata": {
        "id": "wkMXwaDWbgtS"
      },
      "execution_count": 23,
      "outputs": []
    },
    {
      "cell_type": "code",
      "source": [
        "df.isna().sum() # this line of code returns my sum after filling in the missing values in a column"
      ],
      "metadata": {
        "colab": {
          "base_uri": "https://localhost:8080/"
        },
        "id": "klaJDZEffFgz",
        "outputId": "79a173e9-a39c-4ced-dc92-27010390ecc0"
      },
      "execution_count": 24,
      "outputs": [
        {
          "output_type": "execute_result",
          "data": {
            "text/plain": [
              "Item_Identifier                 0\n",
              "Item_Weight                  1463\n",
              "Item_Fat_Content                0\n",
              "Item_Visibility                 0\n",
              "Item_Type                       0\n",
              "Item_MRP                        0\n",
              "Outlet_Identifier               0\n",
              "Outlet_Establishment_Year       0\n",
              "Outlet_Size                     0\n",
              "Outlet_Location_Type            0\n",
              "Outlet_Type                     0\n",
              "Item_Outlet_Sales               0\n",
              "dtype: int64"
            ]
          },
          "metadata": {},
          "execution_count": 24
        }
      ]
    },
    {
      "cell_type": "code",
      "source": [
        "df.loc[:\"Item_Weight\"] # this code returns the column information that tells me the \"Item_weight\", \":\" is needed to identify column rather than row"
      ],
      "metadata": {
        "colab": {
          "base_uri": "https://localhost:8080/",
          "height": 661
        },
        "id": "eeP3wYoaXslX",
        "outputId": "172de6e4-a752-4d81-e01d-c4b38637d438"
      },
      "execution_count": 25,
      "outputs": [
        {
          "output_type": "execute_result",
          "data": {
            "text/plain": [
              "     Item_Identifier  Item_Weight Item_Fat_Content  Item_Visibility  \\\n",
              "0              FDA15        9.300          Low Fat         0.016047   \n",
              "1              DRC01        5.920          Regular         0.019278   \n",
              "2              FDN15       17.500          Low Fat         0.016760   \n",
              "3              FDX07       19.200          Regular         0.000000   \n",
              "4              NCD19        8.930          Low Fat         0.000000   \n",
              "...              ...          ...              ...              ...   \n",
              "8518           FDF22        6.865          Low Fat         0.056783   \n",
              "8519           FDS36        8.380          Regular         0.046982   \n",
              "8520           NCJ29       10.600          Low Fat         0.035186   \n",
              "8521           FDN46        7.210          Regular         0.145221   \n",
              "8522           DRG01       14.800          Low Fat         0.044878   \n",
              "\n",
              "                  Item_Type  Item_MRP Outlet_Identifier  \\\n",
              "0                     Dairy  249.8092            OUT049   \n",
              "1               Soft Drinks   48.2692            OUT018   \n",
              "2                      Meat  141.6180            OUT049   \n",
              "3     Fruits and Vegetables  182.0950            OUT010   \n",
              "4                 Household   53.8614            OUT013   \n",
              "...                     ...       ...               ...   \n",
              "8518            Snack Foods  214.5218            OUT013   \n",
              "8519           Baking Goods  108.1570            OUT045   \n",
              "8520     Health and Hygiene   85.1224            OUT035   \n",
              "8521            Snack Foods  103.1332            OUT018   \n",
              "8522            Soft Drinks   75.4670            OUT046   \n",
              "\n",
              "      Outlet_Establishment_Year Outlet_Size Outlet_Location_Type  \\\n",
              "0                          1999      Medium               Tier 1   \n",
              "1                          2009      Medium               Tier 3   \n",
              "2                          1999      Medium               Tier 1   \n",
              "3                          1998      Medium               Tier 3   \n",
              "4                          1987        High               Tier 3   \n",
              "...                         ...         ...                  ...   \n",
              "8518                       1987        High               Tier 3   \n",
              "8519                       2002      Medium               Tier 2   \n",
              "8520                       2004       Small               Tier 2   \n",
              "8521                       2009      Medium               Tier 3   \n",
              "8522                       1997       Small               Tier 1   \n",
              "\n",
              "            Outlet_Type  Item_Outlet_Sales  \n",
              "0     Supermarket Type1          3735.1380  \n",
              "1     Supermarket Type2           443.4228  \n",
              "2     Supermarket Type1          2097.2700  \n",
              "3         Grocery Store           732.3800  \n",
              "4     Supermarket Type1           994.7052  \n",
              "...                 ...                ...  \n",
              "8518  Supermarket Type1          2778.3834  \n",
              "8519  Supermarket Type1           549.2850  \n",
              "8520  Supermarket Type1          1193.1136  \n",
              "8521  Supermarket Type2          1845.5976  \n",
              "8522  Supermarket Type1           765.6700  \n",
              "\n",
              "[8523 rows x 12 columns]"
            ],
            "text/html": [
              "\n",
              "  <div id=\"df-5124aaf1-ae35-4f72-b6fc-040f0714524c\">\n",
              "    <div class=\"colab-df-container\">\n",
              "      <div>\n",
              "<style scoped>\n",
              "    .dataframe tbody tr th:only-of-type {\n",
              "        vertical-align: middle;\n",
              "    }\n",
              "\n",
              "    .dataframe tbody tr th {\n",
              "        vertical-align: top;\n",
              "    }\n",
              "\n",
              "    .dataframe thead th {\n",
              "        text-align: right;\n",
              "    }\n",
              "</style>\n",
              "<table border=\"1\" class=\"dataframe\">\n",
              "  <thead>\n",
              "    <tr style=\"text-align: right;\">\n",
              "      <th></th>\n",
              "      <th>Item_Identifier</th>\n",
              "      <th>Item_Weight</th>\n",
              "      <th>Item_Fat_Content</th>\n",
              "      <th>Item_Visibility</th>\n",
              "      <th>Item_Type</th>\n",
              "      <th>Item_MRP</th>\n",
              "      <th>Outlet_Identifier</th>\n",
              "      <th>Outlet_Establishment_Year</th>\n",
              "      <th>Outlet_Size</th>\n",
              "      <th>Outlet_Location_Type</th>\n",
              "      <th>Outlet_Type</th>\n",
              "      <th>Item_Outlet_Sales</th>\n",
              "    </tr>\n",
              "  </thead>\n",
              "  <tbody>\n",
              "    <tr>\n",
              "      <th>0</th>\n",
              "      <td>FDA15</td>\n",
              "      <td>9.300</td>\n",
              "      <td>Low Fat</td>\n",
              "      <td>0.016047</td>\n",
              "      <td>Dairy</td>\n",
              "      <td>249.8092</td>\n",
              "      <td>OUT049</td>\n",
              "      <td>1999</td>\n",
              "      <td>Medium</td>\n",
              "      <td>Tier 1</td>\n",
              "      <td>Supermarket Type1</td>\n",
              "      <td>3735.1380</td>\n",
              "    </tr>\n",
              "    <tr>\n",
              "      <th>1</th>\n",
              "      <td>DRC01</td>\n",
              "      <td>5.920</td>\n",
              "      <td>Regular</td>\n",
              "      <td>0.019278</td>\n",
              "      <td>Soft Drinks</td>\n",
              "      <td>48.2692</td>\n",
              "      <td>OUT018</td>\n",
              "      <td>2009</td>\n",
              "      <td>Medium</td>\n",
              "      <td>Tier 3</td>\n",
              "      <td>Supermarket Type2</td>\n",
              "      <td>443.4228</td>\n",
              "    </tr>\n",
              "    <tr>\n",
              "      <th>2</th>\n",
              "      <td>FDN15</td>\n",
              "      <td>17.500</td>\n",
              "      <td>Low Fat</td>\n",
              "      <td>0.016760</td>\n",
              "      <td>Meat</td>\n",
              "      <td>141.6180</td>\n",
              "      <td>OUT049</td>\n",
              "      <td>1999</td>\n",
              "      <td>Medium</td>\n",
              "      <td>Tier 1</td>\n",
              "      <td>Supermarket Type1</td>\n",
              "      <td>2097.2700</td>\n",
              "    </tr>\n",
              "    <tr>\n",
              "      <th>3</th>\n",
              "      <td>FDX07</td>\n",
              "      <td>19.200</td>\n",
              "      <td>Regular</td>\n",
              "      <td>0.000000</td>\n",
              "      <td>Fruits and Vegetables</td>\n",
              "      <td>182.0950</td>\n",
              "      <td>OUT010</td>\n",
              "      <td>1998</td>\n",
              "      <td>Medium</td>\n",
              "      <td>Tier 3</td>\n",
              "      <td>Grocery Store</td>\n",
              "      <td>732.3800</td>\n",
              "    </tr>\n",
              "    <tr>\n",
              "      <th>4</th>\n",
              "      <td>NCD19</td>\n",
              "      <td>8.930</td>\n",
              "      <td>Low Fat</td>\n",
              "      <td>0.000000</td>\n",
              "      <td>Household</td>\n",
              "      <td>53.8614</td>\n",
              "      <td>OUT013</td>\n",
              "      <td>1987</td>\n",
              "      <td>High</td>\n",
              "      <td>Tier 3</td>\n",
              "      <td>Supermarket Type1</td>\n",
              "      <td>994.7052</td>\n",
              "    </tr>\n",
              "    <tr>\n",
              "      <th>...</th>\n",
              "      <td>...</td>\n",
              "      <td>...</td>\n",
              "      <td>...</td>\n",
              "      <td>...</td>\n",
              "      <td>...</td>\n",
              "      <td>...</td>\n",
              "      <td>...</td>\n",
              "      <td>...</td>\n",
              "      <td>...</td>\n",
              "      <td>...</td>\n",
              "      <td>...</td>\n",
              "      <td>...</td>\n",
              "    </tr>\n",
              "    <tr>\n",
              "      <th>8518</th>\n",
              "      <td>FDF22</td>\n",
              "      <td>6.865</td>\n",
              "      <td>Low Fat</td>\n",
              "      <td>0.056783</td>\n",
              "      <td>Snack Foods</td>\n",
              "      <td>214.5218</td>\n",
              "      <td>OUT013</td>\n",
              "      <td>1987</td>\n",
              "      <td>High</td>\n",
              "      <td>Tier 3</td>\n",
              "      <td>Supermarket Type1</td>\n",
              "      <td>2778.3834</td>\n",
              "    </tr>\n",
              "    <tr>\n",
              "      <th>8519</th>\n",
              "      <td>FDS36</td>\n",
              "      <td>8.380</td>\n",
              "      <td>Regular</td>\n",
              "      <td>0.046982</td>\n",
              "      <td>Baking Goods</td>\n",
              "      <td>108.1570</td>\n",
              "      <td>OUT045</td>\n",
              "      <td>2002</td>\n",
              "      <td>Medium</td>\n",
              "      <td>Tier 2</td>\n",
              "      <td>Supermarket Type1</td>\n",
              "      <td>549.2850</td>\n",
              "    </tr>\n",
              "    <tr>\n",
              "      <th>8520</th>\n",
              "      <td>NCJ29</td>\n",
              "      <td>10.600</td>\n",
              "      <td>Low Fat</td>\n",
              "      <td>0.035186</td>\n",
              "      <td>Health and Hygiene</td>\n",
              "      <td>85.1224</td>\n",
              "      <td>OUT035</td>\n",
              "      <td>2004</td>\n",
              "      <td>Small</td>\n",
              "      <td>Tier 2</td>\n",
              "      <td>Supermarket Type1</td>\n",
              "      <td>1193.1136</td>\n",
              "    </tr>\n",
              "    <tr>\n",
              "      <th>8521</th>\n",
              "      <td>FDN46</td>\n",
              "      <td>7.210</td>\n",
              "      <td>Regular</td>\n",
              "      <td>0.145221</td>\n",
              "      <td>Snack Foods</td>\n",
              "      <td>103.1332</td>\n",
              "      <td>OUT018</td>\n",
              "      <td>2009</td>\n",
              "      <td>Medium</td>\n",
              "      <td>Tier 3</td>\n",
              "      <td>Supermarket Type2</td>\n",
              "      <td>1845.5976</td>\n",
              "    </tr>\n",
              "    <tr>\n",
              "      <th>8522</th>\n",
              "      <td>DRG01</td>\n",
              "      <td>14.800</td>\n",
              "      <td>Low Fat</td>\n",
              "      <td>0.044878</td>\n",
              "      <td>Soft Drinks</td>\n",
              "      <td>75.4670</td>\n",
              "      <td>OUT046</td>\n",
              "      <td>1997</td>\n",
              "      <td>Small</td>\n",
              "      <td>Tier 1</td>\n",
              "      <td>Supermarket Type1</td>\n",
              "      <td>765.6700</td>\n",
              "    </tr>\n",
              "  </tbody>\n",
              "</table>\n",
              "<p>8523 rows × 12 columns</p>\n",
              "</div>\n",
              "      <button class=\"colab-df-convert\" onclick=\"convertToInteractive('df-5124aaf1-ae35-4f72-b6fc-040f0714524c')\"\n",
              "              title=\"Convert this dataframe to an interactive table.\"\n",
              "              style=\"display:none;\">\n",
              "        \n",
              "  <svg xmlns=\"http://www.w3.org/2000/svg\" height=\"24px\"viewBox=\"0 0 24 24\"\n",
              "       width=\"24px\">\n",
              "    <path d=\"M0 0h24v24H0V0z\" fill=\"none\"/>\n",
              "    <path d=\"M18.56 5.44l.94 2.06.94-2.06 2.06-.94-2.06-.94-.94-2.06-.94 2.06-2.06.94zm-11 1L8.5 8.5l.94-2.06 2.06-.94-2.06-.94L8.5 2.5l-.94 2.06-2.06.94zm10 10l.94 2.06.94-2.06 2.06-.94-2.06-.94-.94-2.06-.94 2.06-2.06.94z\"/><path d=\"M17.41 7.96l-1.37-1.37c-.4-.4-.92-.59-1.43-.59-.52 0-1.04.2-1.43.59L10.3 9.45l-7.72 7.72c-.78.78-.78 2.05 0 2.83L4 21.41c.39.39.9.59 1.41.59.51 0 1.02-.2 1.41-.59l7.78-7.78 2.81-2.81c.8-.78.8-2.07 0-2.86zM5.41 20L4 18.59l7.72-7.72 1.47 1.35L5.41 20z\"/>\n",
              "  </svg>\n",
              "      </button>\n",
              "      \n",
              "  <style>\n",
              "    .colab-df-container {\n",
              "      display:flex;\n",
              "      flex-wrap:wrap;\n",
              "      gap: 12px;\n",
              "    }\n",
              "\n",
              "    .colab-df-convert {\n",
              "      background-color: #E8F0FE;\n",
              "      border: none;\n",
              "      border-radius: 50%;\n",
              "      cursor: pointer;\n",
              "      display: none;\n",
              "      fill: #1967D2;\n",
              "      height: 32px;\n",
              "      padding: 0 0 0 0;\n",
              "      width: 32px;\n",
              "    }\n",
              "\n",
              "    .colab-df-convert:hover {\n",
              "      background-color: #E2EBFA;\n",
              "      box-shadow: 0px 1px 2px rgba(60, 64, 67, 0.3), 0px 1px 3px 1px rgba(60, 64, 67, 0.15);\n",
              "      fill: #174EA6;\n",
              "    }\n",
              "\n",
              "    [theme=dark] .colab-df-convert {\n",
              "      background-color: #3B4455;\n",
              "      fill: #D2E3FC;\n",
              "    }\n",
              "\n",
              "    [theme=dark] .colab-df-convert:hover {\n",
              "      background-color: #434B5C;\n",
              "      box-shadow: 0px 1px 3px 1px rgba(0, 0, 0, 0.15);\n",
              "      filter: drop-shadow(0px 1px 2px rgba(0, 0, 0, 0.3));\n",
              "      fill: #FFFFFF;\n",
              "    }\n",
              "  </style>\n",
              "\n",
              "      <script>\n",
              "        const buttonEl =\n",
              "          document.querySelector('#df-5124aaf1-ae35-4f72-b6fc-040f0714524c button.colab-df-convert');\n",
              "        buttonEl.style.display =\n",
              "          google.colab.kernel.accessAllowed ? 'block' : 'none';\n",
              "\n",
              "        async function convertToInteractive(key) {\n",
              "          const element = document.querySelector('#df-5124aaf1-ae35-4f72-b6fc-040f0714524c');\n",
              "          const dataTable =\n",
              "            await google.colab.kernel.invokeFunction('convertToInteractive',\n",
              "                                                     [key], {});\n",
              "          if (!dataTable) return;\n",
              "\n",
              "          const docLinkHtml = 'Like what you see? Visit the ' +\n",
              "            '<a target=\"_blank\" href=https://colab.research.google.com/notebooks/data_table.ipynb>data table notebook</a>'\n",
              "            + ' to learn more about interactive tables.';\n",
              "          element.innerHTML = '';\n",
              "          dataTable['output_type'] = 'display_data';\n",
              "          await google.colab.output.renderOutput(dataTable, element);\n",
              "          const docLink = document.createElement('div');\n",
              "          docLink.innerHTML = docLinkHtml;\n",
              "          element.appendChild(docLink);\n",
              "        }\n",
              "      </script>\n",
              "    </div>\n",
              "  </div>\n",
              "  "
            ]
          },
          "metadata": {},
          "execution_count": 25
        }
      ]
    },
    {
      "cell_type": "code",
      "source": [
        "avg_weight = df[\"Item_Weight\"].median() # This line of code reveals the median Item_Weight\n",
        "avg_weight"
      ],
      "metadata": {
        "colab": {
          "base_uri": "https://localhost:8080/"
        },
        "id": "dklue4cVja9K",
        "outputId": "3efbb591-ec5d-4430-d7d2-64c858c041c9"
      },
      "execution_count": 26,
      "outputs": [
        {
          "output_type": "execute_result",
          "data": {
            "text/plain": [
              "12.6"
            ]
          },
          "metadata": {},
          "execution_count": 26
        }
      ]
    },
    {
      "cell_type": "code",
      "source": [
        "df.info() # This line of code checks my information and tells me there are still missing values in Item_Weight"
      ],
      "metadata": {
        "colab": {
          "base_uri": "https://localhost:8080/"
        },
        "id": "wwHU-KKFk1xi",
        "outputId": "ed78b22d-baa4-4643-b83d-62790f334482"
      },
      "execution_count": 27,
      "outputs": [
        {
          "output_type": "stream",
          "name": "stdout",
          "text": [
            "<class 'pandas.core.frame.DataFrame'>\n",
            "RangeIndex: 8523 entries, 0 to 8522\n",
            "Data columns (total 12 columns):\n",
            " #   Column                     Non-Null Count  Dtype  \n",
            "---  ------                     --------------  -----  \n",
            " 0   Item_Identifier            8523 non-null   object \n",
            " 1   Item_Weight                7060 non-null   float64\n",
            " 2   Item_Fat_Content           8523 non-null   object \n",
            " 3   Item_Visibility            8523 non-null   float64\n",
            " 4   Item_Type                  8523 non-null   object \n",
            " 5   Item_MRP                   8523 non-null   float64\n",
            " 6   Outlet_Identifier          8523 non-null   object \n",
            " 7   Outlet_Establishment_Year  8523 non-null   int64  \n",
            " 8   Outlet_Size                8523 non-null   object \n",
            " 9   Outlet_Location_Type       8523 non-null   object \n",
            " 10  Outlet_Type                8523 non-null   object \n",
            " 11  Item_Outlet_Sales          8523 non-null   float64\n",
            "dtypes: float64(4), int64(1), object(7)\n",
            "memory usage: 799.2+ KB\n"
          ]
        }
      ]
    },
    {
      "cell_type": "markdown",
      "source": [
        "#####I'm using the median to fill the item weight missing values because the item weight is numerical and doing so with this method resists the possibility of outliers skewing the dataset"
      ],
      "metadata": {
        "id": "MOrz2rEzItwq"
      }
    },
    {
      "cell_type": "code",
      "source": [
        "avg_weight = df[\"Item_Weight\"].median() # This allows me to fill in the missing item weights with the mean of the avg weights listed\n",
        "df[\"Item_Weight\"].fillna(12.85, inplace=True)"
      ],
      "metadata": {
        "id": "EVgjmA1vjknd"
      },
      "execution_count": 28,
      "outputs": []
    },
    {
      "cell_type": "code",
      "source": [
        "print(avg_weight) # This line of code prints the avg weight number"
      ],
      "metadata": {
        "colab": {
          "base_uri": "https://localhost:8080/"
        },
        "id": "RqcM5GbElHud",
        "outputId": "8513fad7-bc66-4515-a396-bafe9d476ffb"
      },
      "execution_count": 29,
      "outputs": [
        {
          "output_type": "stream",
          "name": "stdout",
          "text": [
            "12.6\n"
          ]
        }
      ]
    },
    {
      "cell_type": "code",
      "source": [
        "df.isna().sum() # This is to check and verify that all the missing values have been filled in and thus eliminated in my df"
      ],
      "metadata": {
        "colab": {
          "base_uri": "https://localhost:8080/"
        },
        "id": "NAIACHCMmKR1",
        "outputId": "737dc641-9e44-4c07-f61d-a7b6b9f45640"
      },
      "execution_count": 30,
      "outputs": [
        {
          "output_type": "execute_result",
          "data": {
            "text/plain": [
              "Item_Identifier              0\n",
              "Item_Weight                  0\n",
              "Item_Fat_Content             0\n",
              "Item_Visibility              0\n",
              "Item_Type                    0\n",
              "Item_MRP                     0\n",
              "Outlet_Identifier            0\n",
              "Outlet_Establishment_Year    0\n",
              "Outlet_Size                  0\n",
              "Outlet_Location_Type         0\n",
              "Outlet_Type                  0\n",
              "Item_Outlet_Sales            0\n",
              "dtype: int64"
            ]
          },
          "metadata": {},
          "execution_count": 30
        }
      ]
    },
    {
      "cell_type": "code",
      "source": [
        "df.head() # This line of code confirms for me that my data looks as it should in the first 5 rows"
      ],
      "metadata": {
        "colab": {
          "base_uri": "https://localhost:8080/",
          "height": 357
        },
        "id": "n1SaHAt0qivn",
        "outputId": "5e9522ef-f942-4da5-a0f4-2804d8242a8b"
      },
      "execution_count": 31,
      "outputs": [
        {
          "output_type": "execute_result",
          "data": {
            "text/plain": [
              "  Item_Identifier  Item_Weight Item_Fat_Content  Item_Visibility  \\\n",
              "0           FDA15         9.30          Low Fat         0.016047   \n",
              "1           DRC01         5.92          Regular         0.019278   \n",
              "2           FDN15        17.50          Low Fat         0.016760   \n",
              "3           FDX07        19.20          Regular         0.000000   \n",
              "4           NCD19         8.93          Low Fat         0.000000   \n",
              "\n",
              "               Item_Type  Item_MRP Outlet_Identifier  \\\n",
              "0                  Dairy  249.8092            OUT049   \n",
              "1            Soft Drinks   48.2692            OUT018   \n",
              "2                   Meat  141.6180            OUT049   \n",
              "3  Fruits and Vegetables  182.0950            OUT010   \n",
              "4              Household   53.8614            OUT013   \n",
              "\n",
              "   Outlet_Establishment_Year Outlet_Size Outlet_Location_Type  \\\n",
              "0                       1999      Medium               Tier 1   \n",
              "1                       2009      Medium               Tier 3   \n",
              "2                       1999      Medium               Tier 1   \n",
              "3                       1998      Medium               Tier 3   \n",
              "4                       1987        High               Tier 3   \n",
              "\n",
              "         Outlet_Type  Item_Outlet_Sales  \n",
              "0  Supermarket Type1          3735.1380  \n",
              "1  Supermarket Type2           443.4228  \n",
              "2  Supermarket Type1          2097.2700  \n",
              "3      Grocery Store           732.3800  \n",
              "4  Supermarket Type1           994.7052  "
            ],
            "text/html": [
              "\n",
              "  <div id=\"df-6abc708d-1d70-4867-b000-7b533a2e37c5\">\n",
              "    <div class=\"colab-df-container\">\n",
              "      <div>\n",
              "<style scoped>\n",
              "    .dataframe tbody tr th:only-of-type {\n",
              "        vertical-align: middle;\n",
              "    }\n",
              "\n",
              "    .dataframe tbody tr th {\n",
              "        vertical-align: top;\n",
              "    }\n",
              "\n",
              "    .dataframe thead th {\n",
              "        text-align: right;\n",
              "    }\n",
              "</style>\n",
              "<table border=\"1\" class=\"dataframe\">\n",
              "  <thead>\n",
              "    <tr style=\"text-align: right;\">\n",
              "      <th></th>\n",
              "      <th>Item_Identifier</th>\n",
              "      <th>Item_Weight</th>\n",
              "      <th>Item_Fat_Content</th>\n",
              "      <th>Item_Visibility</th>\n",
              "      <th>Item_Type</th>\n",
              "      <th>Item_MRP</th>\n",
              "      <th>Outlet_Identifier</th>\n",
              "      <th>Outlet_Establishment_Year</th>\n",
              "      <th>Outlet_Size</th>\n",
              "      <th>Outlet_Location_Type</th>\n",
              "      <th>Outlet_Type</th>\n",
              "      <th>Item_Outlet_Sales</th>\n",
              "    </tr>\n",
              "  </thead>\n",
              "  <tbody>\n",
              "    <tr>\n",
              "      <th>0</th>\n",
              "      <td>FDA15</td>\n",
              "      <td>9.30</td>\n",
              "      <td>Low Fat</td>\n",
              "      <td>0.016047</td>\n",
              "      <td>Dairy</td>\n",
              "      <td>249.8092</td>\n",
              "      <td>OUT049</td>\n",
              "      <td>1999</td>\n",
              "      <td>Medium</td>\n",
              "      <td>Tier 1</td>\n",
              "      <td>Supermarket Type1</td>\n",
              "      <td>3735.1380</td>\n",
              "    </tr>\n",
              "    <tr>\n",
              "      <th>1</th>\n",
              "      <td>DRC01</td>\n",
              "      <td>5.92</td>\n",
              "      <td>Regular</td>\n",
              "      <td>0.019278</td>\n",
              "      <td>Soft Drinks</td>\n",
              "      <td>48.2692</td>\n",
              "      <td>OUT018</td>\n",
              "      <td>2009</td>\n",
              "      <td>Medium</td>\n",
              "      <td>Tier 3</td>\n",
              "      <td>Supermarket Type2</td>\n",
              "      <td>443.4228</td>\n",
              "    </tr>\n",
              "    <tr>\n",
              "      <th>2</th>\n",
              "      <td>FDN15</td>\n",
              "      <td>17.50</td>\n",
              "      <td>Low Fat</td>\n",
              "      <td>0.016760</td>\n",
              "      <td>Meat</td>\n",
              "      <td>141.6180</td>\n",
              "      <td>OUT049</td>\n",
              "      <td>1999</td>\n",
              "      <td>Medium</td>\n",
              "      <td>Tier 1</td>\n",
              "      <td>Supermarket Type1</td>\n",
              "      <td>2097.2700</td>\n",
              "    </tr>\n",
              "    <tr>\n",
              "      <th>3</th>\n",
              "      <td>FDX07</td>\n",
              "      <td>19.20</td>\n",
              "      <td>Regular</td>\n",
              "      <td>0.000000</td>\n",
              "      <td>Fruits and Vegetables</td>\n",
              "      <td>182.0950</td>\n",
              "      <td>OUT010</td>\n",
              "      <td>1998</td>\n",
              "      <td>Medium</td>\n",
              "      <td>Tier 3</td>\n",
              "      <td>Grocery Store</td>\n",
              "      <td>732.3800</td>\n",
              "    </tr>\n",
              "    <tr>\n",
              "      <th>4</th>\n",
              "      <td>NCD19</td>\n",
              "      <td>8.93</td>\n",
              "      <td>Low Fat</td>\n",
              "      <td>0.000000</td>\n",
              "      <td>Household</td>\n",
              "      <td>53.8614</td>\n",
              "      <td>OUT013</td>\n",
              "      <td>1987</td>\n",
              "      <td>High</td>\n",
              "      <td>Tier 3</td>\n",
              "      <td>Supermarket Type1</td>\n",
              "      <td>994.7052</td>\n",
              "    </tr>\n",
              "  </tbody>\n",
              "</table>\n",
              "</div>\n",
              "      <button class=\"colab-df-convert\" onclick=\"convertToInteractive('df-6abc708d-1d70-4867-b000-7b533a2e37c5')\"\n",
              "              title=\"Convert this dataframe to an interactive table.\"\n",
              "              style=\"display:none;\">\n",
              "        \n",
              "  <svg xmlns=\"http://www.w3.org/2000/svg\" height=\"24px\"viewBox=\"0 0 24 24\"\n",
              "       width=\"24px\">\n",
              "    <path d=\"M0 0h24v24H0V0z\" fill=\"none\"/>\n",
              "    <path d=\"M18.56 5.44l.94 2.06.94-2.06 2.06-.94-2.06-.94-.94-2.06-.94 2.06-2.06.94zm-11 1L8.5 8.5l.94-2.06 2.06-.94-2.06-.94L8.5 2.5l-.94 2.06-2.06.94zm10 10l.94 2.06.94-2.06 2.06-.94-2.06-.94-.94-2.06-.94 2.06-2.06.94z\"/><path d=\"M17.41 7.96l-1.37-1.37c-.4-.4-.92-.59-1.43-.59-.52 0-1.04.2-1.43.59L10.3 9.45l-7.72 7.72c-.78.78-.78 2.05 0 2.83L4 21.41c.39.39.9.59 1.41.59.51 0 1.02-.2 1.41-.59l7.78-7.78 2.81-2.81c.8-.78.8-2.07 0-2.86zM5.41 20L4 18.59l7.72-7.72 1.47 1.35L5.41 20z\"/>\n",
              "  </svg>\n",
              "      </button>\n",
              "      \n",
              "  <style>\n",
              "    .colab-df-container {\n",
              "      display:flex;\n",
              "      flex-wrap:wrap;\n",
              "      gap: 12px;\n",
              "    }\n",
              "\n",
              "    .colab-df-convert {\n",
              "      background-color: #E8F0FE;\n",
              "      border: none;\n",
              "      border-radius: 50%;\n",
              "      cursor: pointer;\n",
              "      display: none;\n",
              "      fill: #1967D2;\n",
              "      height: 32px;\n",
              "      padding: 0 0 0 0;\n",
              "      width: 32px;\n",
              "    }\n",
              "\n",
              "    .colab-df-convert:hover {\n",
              "      background-color: #E2EBFA;\n",
              "      box-shadow: 0px 1px 2px rgba(60, 64, 67, 0.3), 0px 1px 3px 1px rgba(60, 64, 67, 0.15);\n",
              "      fill: #174EA6;\n",
              "    }\n",
              "\n",
              "    [theme=dark] .colab-df-convert {\n",
              "      background-color: #3B4455;\n",
              "      fill: #D2E3FC;\n",
              "    }\n",
              "\n",
              "    [theme=dark] .colab-df-convert:hover {\n",
              "      background-color: #434B5C;\n",
              "      box-shadow: 0px 1px 3px 1px rgba(0, 0, 0, 0.15);\n",
              "      filter: drop-shadow(0px 1px 2px rgba(0, 0, 0, 0.3));\n",
              "      fill: #FFFFFF;\n",
              "    }\n",
              "  </style>\n",
              "\n",
              "      <script>\n",
              "        const buttonEl =\n",
              "          document.querySelector('#df-6abc708d-1d70-4867-b000-7b533a2e37c5 button.colab-df-convert');\n",
              "        buttonEl.style.display =\n",
              "          google.colab.kernel.accessAllowed ? 'block' : 'none';\n",
              "\n",
              "        async function convertToInteractive(key) {\n",
              "          const element = document.querySelector('#df-6abc708d-1d70-4867-b000-7b533a2e37c5');\n",
              "          const dataTable =\n",
              "            await google.colab.kernel.invokeFunction('convertToInteractive',\n",
              "                                                     [key], {});\n",
              "          if (!dataTable) return;\n",
              "\n",
              "          const docLinkHtml = 'Like what you see? Visit the ' +\n",
              "            '<a target=\"_blank\" href=https://colab.research.google.com/notebooks/data_table.ipynb>data table notebook</a>'\n",
              "            + ' to learn more about interactive tables.';\n",
              "          element.innerHTML = '';\n",
              "          dataTable['output_type'] = 'display_data';\n",
              "          await google.colab.output.renderOutput(dataTable, element);\n",
              "          const docLink = document.createElement('div');\n",
              "          docLink.innerHTML = docLinkHtml;\n",
              "          element.appendChild(docLink);\n",
              "        }\n",
              "      </script>\n",
              "    </div>\n",
              "  </div>\n",
              "  "
            ]
          },
          "metadata": {},
          "execution_count": 31
        }
      ]
    },
    {
      "cell_type": "code",
      "source": [
        "df.describe() # This line of code is used to capture the numerical min, max, and mean for rows"
      ],
      "metadata": {
        "colab": {
          "base_uri": "https://localhost:8080/",
          "height": 300
        },
        "id": "0E8Yb9HlmTMv",
        "outputId": "7168cdb7-1c6e-4e0e-bb3c-4c743a6f6241"
      },
      "execution_count": 32,
      "outputs": [
        {
          "output_type": "execute_result",
          "data": {
            "text/plain": [
              "       Item_Weight  Item_Visibility     Item_MRP  Outlet_Establishment_Year  \\\n",
              "count  8523.000000      8523.000000  8523.000000                8523.000000   \n",
              "mean     12.856333         0.066132   140.992782                1997.831867   \n",
              "std       4.226125         0.051598    62.275067                   8.371760   \n",
              "min       4.555000         0.000000    31.290000                1985.000000   \n",
              "25%       9.310000         0.026989    93.826500                1987.000000   \n",
              "50%      12.850000         0.053931   143.012800                1999.000000   \n",
              "75%      16.000000         0.094585   185.643700                2004.000000   \n",
              "max      21.350000         0.328391   266.888400                2009.000000   \n",
              "\n",
              "       Item_Outlet_Sales  \n",
              "count        8523.000000  \n",
              "mean         2181.288914  \n",
              "std          1706.499616  \n",
              "min            33.290000  \n",
              "25%           834.247400  \n",
              "50%          1794.331000  \n",
              "75%          3101.296400  \n",
              "max         13086.964800  "
            ],
            "text/html": [
              "\n",
              "  <div id=\"df-f2bbfd77-ab06-4fa9-875e-e7be85e8263c\">\n",
              "    <div class=\"colab-df-container\">\n",
              "      <div>\n",
              "<style scoped>\n",
              "    .dataframe tbody tr th:only-of-type {\n",
              "        vertical-align: middle;\n",
              "    }\n",
              "\n",
              "    .dataframe tbody tr th {\n",
              "        vertical-align: top;\n",
              "    }\n",
              "\n",
              "    .dataframe thead th {\n",
              "        text-align: right;\n",
              "    }\n",
              "</style>\n",
              "<table border=\"1\" class=\"dataframe\">\n",
              "  <thead>\n",
              "    <tr style=\"text-align: right;\">\n",
              "      <th></th>\n",
              "      <th>Item_Weight</th>\n",
              "      <th>Item_Visibility</th>\n",
              "      <th>Item_MRP</th>\n",
              "      <th>Outlet_Establishment_Year</th>\n",
              "      <th>Item_Outlet_Sales</th>\n",
              "    </tr>\n",
              "  </thead>\n",
              "  <tbody>\n",
              "    <tr>\n",
              "      <th>count</th>\n",
              "      <td>8523.000000</td>\n",
              "      <td>8523.000000</td>\n",
              "      <td>8523.000000</td>\n",
              "      <td>8523.000000</td>\n",
              "      <td>8523.000000</td>\n",
              "    </tr>\n",
              "    <tr>\n",
              "      <th>mean</th>\n",
              "      <td>12.856333</td>\n",
              "      <td>0.066132</td>\n",
              "      <td>140.992782</td>\n",
              "      <td>1997.831867</td>\n",
              "      <td>2181.288914</td>\n",
              "    </tr>\n",
              "    <tr>\n",
              "      <th>std</th>\n",
              "      <td>4.226125</td>\n",
              "      <td>0.051598</td>\n",
              "      <td>62.275067</td>\n",
              "      <td>8.371760</td>\n",
              "      <td>1706.499616</td>\n",
              "    </tr>\n",
              "    <tr>\n",
              "      <th>min</th>\n",
              "      <td>4.555000</td>\n",
              "      <td>0.000000</td>\n",
              "      <td>31.290000</td>\n",
              "      <td>1985.000000</td>\n",
              "      <td>33.290000</td>\n",
              "    </tr>\n",
              "    <tr>\n",
              "      <th>25%</th>\n",
              "      <td>9.310000</td>\n",
              "      <td>0.026989</td>\n",
              "      <td>93.826500</td>\n",
              "      <td>1987.000000</td>\n",
              "      <td>834.247400</td>\n",
              "    </tr>\n",
              "    <tr>\n",
              "      <th>50%</th>\n",
              "      <td>12.850000</td>\n",
              "      <td>0.053931</td>\n",
              "      <td>143.012800</td>\n",
              "      <td>1999.000000</td>\n",
              "      <td>1794.331000</td>\n",
              "    </tr>\n",
              "    <tr>\n",
              "      <th>75%</th>\n",
              "      <td>16.000000</td>\n",
              "      <td>0.094585</td>\n",
              "      <td>185.643700</td>\n",
              "      <td>2004.000000</td>\n",
              "      <td>3101.296400</td>\n",
              "    </tr>\n",
              "    <tr>\n",
              "      <th>max</th>\n",
              "      <td>21.350000</td>\n",
              "      <td>0.328391</td>\n",
              "      <td>266.888400</td>\n",
              "      <td>2009.000000</td>\n",
              "      <td>13086.964800</td>\n",
              "    </tr>\n",
              "  </tbody>\n",
              "</table>\n",
              "</div>\n",
              "      <button class=\"colab-df-convert\" onclick=\"convertToInteractive('df-f2bbfd77-ab06-4fa9-875e-e7be85e8263c')\"\n",
              "              title=\"Convert this dataframe to an interactive table.\"\n",
              "              style=\"display:none;\">\n",
              "        \n",
              "  <svg xmlns=\"http://www.w3.org/2000/svg\" height=\"24px\"viewBox=\"0 0 24 24\"\n",
              "       width=\"24px\">\n",
              "    <path d=\"M0 0h24v24H0V0z\" fill=\"none\"/>\n",
              "    <path d=\"M18.56 5.44l.94 2.06.94-2.06 2.06-.94-2.06-.94-.94-2.06-.94 2.06-2.06.94zm-11 1L8.5 8.5l.94-2.06 2.06-.94-2.06-.94L8.5 2.5l-.94 2.06-2.06.94zm10 10l.94 2.06.94-2.06 2.06-.94-2.06-.94-.94-2.06-.94 2.06-2.06.94z\"/><path d=\"M17.41 7.96l-1.37-1.37c-.4-.4-.92-.59-1.43-.59-.52 0-1.04.2-1.43.59L10.3 9.45l-7.72 7.72c-.78.78-.78 2.05 0 2.83L4 21.41c.39.39.9.59 1.41.59.51 0 1.02-.2 1.41-.59l7.78-7.78 2.81-2.81c.8-.78.8-2.07 0-2.86zM5.41 20L4 18.59l7.72-7.72 1.47 1.35L5.41 20z\"/>\n",
              "  </svg>\n",
              "      </button>\n",
              "      \n",
              "  <style>\n",
              "    .colab-df-container {\n",
              "      display:flex;\n",
              "      flex-wrap:wrap;\n",
              "      gap: 12px;\n",
              "    }\n",
              "\n",
              "    .colab-df-convert {\n",
              "      background-color: #E8F0FE;\n",
              "      border: none;\n",
              "      border-radius: 50%;\n",
              "      cursor: pointer;\n",
              "      display: none;\n",
              "      fill: #1967D2;\n",
              "      height: 32px;\n",
              "      padding: 0 0 0 0;\n",
              "      width: 32px;\n",
              "    }\n",
              "\n",
              "    .colab-df-convert:hover {\n",
              "      background-color: #E2EBFA;\n",
              "      box-shadow: 0px 1px 2px rgba(60, 64, 67, 0.3), 0px 1px 3px 1px rgba(60, 64, 67, 0.15);\n",
              "      fill: #174EA6;\n",
              "    }\n",
              "\n",
              "    [theme=dark] .colab-df-convert {\n",
              "      background-color: #3B4455;\n",
              "      fill: #D2E3FC;\n",
              "    }\n",
              "\n",
              "    [theme=dark] .colab-df-convert:hover {\n",
              "      background-color: #434B5C;\n",
              "      box-shadow: 0px 1px 3px 1px rgba(0, 0, 0, 0.15);\n",
              "      filter: drop-shadow(0px 1px 2px rgba(0, 0, 0, 0.3));\n",
              "      fill: #FFFFFF;\n",
              "    }\n",
              "  </style>\n",
              "\n",
              "      <script>\n",
              "        const buttonEl =\n",
              "          document.querySelector('#df-f2bbfd77-ab06-4fa9-875e-e7be85e8263c button.colab-df-convert');\n",
              "        buttonEl.style.display =\n",
              "          google.colab.kernel.accessAllowed ? 'block' : 'none';\n",
              "\n",
              "        async function convertToInteractive(key) {\n",
              "          const element = document.querySelector('#df-f2bbfd77-ab06-4fa9-875e-e7be85e8263c');\n",
              "          const dataTable =\n",
              "            await google.colab.kernel.invokeFunction('convertToInteractive',\n",
              "                                                     [key], {});\n",
              "          if (!dataTable) return;\n",
              "\n",
              "          const docLinkHtml = 'Like what you see? Visit the ' +\n",
              "            '<a target=\"_blank\" href=https://colab.research.google.com/notebooks/data_table.ipynb>data table notebook</a>'\n",
              "            + ' to learn more about interactive tables.';\n",
              "          element.innerHTML = '';\n",
              "          dataTable['output_type'] = 'display_data';\n",
              "          await google.colab.output.renderOutput(dataTable, element);\n",
              "          const docLink = document.createElement('div');\n",
              "          docLink.innerHTML = docLinkHtml;\n",
              "          element.appendChild(docLink);\n",
              "        }\n",
              "      </script>\n",
              "    </div>\n",
              "  </div>\n",
              "  "
            ]
          },
          "metadata": {},
          "execution_count": 32
        }
      ]
    },
    {
      "cell_type": "code",
      "source": [
        "df.value_counts() # This line of code tells me the value counts in my data frame"
      ],
      "metadata": {
        "colab": {
          "base_uri": "https://localhost:8080/"
        },
        "id": "Vy755ru5oPLm",
        "outputId": "0673c56e-7d3d-4e9a-e86b-907380f69dac"
      },
      "execution_count": 33,
      "outputs": [
        {
          "output_type": "execute_result",
          "data": {
            "text/plain": [
              "Item_Identifier  Item_Weight  Item_Fat_Content  Item_Visibility  Item_Type              Item_MRP  Outlet_Identifier  Outlet_Establishment_Year  Outlet_Size  Outlet_Location_Type  Outlet_Type        Item_Outlet_Sales\n",
              "DRA12            11.600       LF                0.000000         Soft Drinks            141.9154  OUT035             2004                       Small        Tier 2                Supermarket Type1  992.7078             1\n",
              "FDV28            12.850       Regular           0.158955         Frozen Foods           34.9558   OUT027             1985                       Medium       Tier 3                Supermarket Type3  1120.5414            1\n",
              "FDV32            7.785        Low Fat           0.089210         Fruits and Vegetables  64.2510   OUT017             2007                       Medium       Tier 2                Supermarket Type1  1328.2710            1\n",
              "                                                0.089070         Fruits and Vegetables  62.7510   OUT018             2009                       Medium       Tier 3                Supermarket Type2  1707.7770            1\n",
              "                                                0.088846         Fruits and Vegetables  61.4510   OUT049             1999                       Medium       Tier 1                Supermarket Type1  759.0120             1\n",
              "                                                                                                                                                                                                                          ..\n",
              "FDJ22            18.750       Low Fat           0.053109         Snack Foods            193.6504  OUT017             2007                       Medium       Tier 2                Supermarket Type1  2876.2560            1\n",
              "                                                0.053025         Snack Foods            192.5504  OUT018             2009                       Medium       Tier 3                Supermarket Type2  2109.2544            1\n",
              "                                                0.052917         Snack Foods            190.6504  OUT045             2002                       Medium       Tier 2                Supermarket Type1  1342.2528            1\n",
              "                                                0.052800         Snack Foods            193.2504  OUT035             2004                       Small        Tier 2                Supermarket Type1  2684.5056            1\n",
              "NCZ54            14.650       Low Fat           0.083699         Household              163.4552  OUT018             2009                       Medium       Tier 3                Supermarket Type2  2599.2832            1\n",
              "Length: 8523, dtype: int64"
            ]
          },
          "metadata": {},
          "execution_count": 33
        }
      ]
    },
    {
      "cell_type": "code",
      "source": [
        "df.describe(include = \"object\") .round(2) # This line of code will create a list of object type columns"
      ],
      "metadata": {
        "colab": {
          "base_uri": "https://localhost:8080/",
          "height": 174
        },
        "id": "jgOPVG2wAjbP",
        "outputId": "5ed17a82-ae4a-442b-b358-d1fd4816314d"
      },
      "execution_count": 34,
      "outputs": [
        {
          "output_type": "execute_result",
          "data": {
            "text/plain": [
              "       Item_Identifier Item_Fat_Content              Item_Type  \\\n",
              "count             8523             8523                   8523   \n",
              "unique            1559                5                     16   \n",
              "top              FDW13          Low Fat  Fruits and Vegetables   \n",
              "freq                10             5089                   1232   \n",
              "\n",
              "       Outlet_Identifier Outlet_Size Outlet_Location_Type        Outlet_Type  \n",
              "count               8523        8523                 8523               8523  \n",
              "unique                10           3                    3                  4  \n",
              "top               OUT027      Medium               Tier 3  Supermarket Type1  \n",
              "freq                 935        5203                 3350               5577  "
            ],
            "text/html": [
              "\n",
              "  <div id=\"df-6178f172-f678-4faf-a6e7-f51371407c3d\">\n",
              "    <div class=\"colab-df-container\">\n",
              "      <div>\n",
              "<style scoped>\n",
              "    .dataframe tbody tr th:only-of-type {\n",
              "        vertical-align: middle;\n",
              "    }\n",
              "\n",
              "    .dataframe tbody tr th {\n",
              "        vertical-align: top;\n",
              "    }\n",
              "\n",
              "    .dataframe thead th {\n",
              "        text-align: right;\n",
              "    }\n",
              "</style>\n",
              "<table border=\"1\" class=\"dataframe\">\n",
              "  <thead>\n",
              "    <tr style=\"text-align: right;\">\n",
              "      <th></th>\n",
              "      <th>Item_Identifier</th>\n",
              "      <th>Item_Fat_Content</th>\n",
              "      <th>Item_Type</th>\n",
              "      <th>Outlet_Identifier</th>\n",
              "      <th>Outlet_Size</th>\n",
              "      <th>Outlet_Location_Type</th>\n",
              "      <th>Outlet_Type</th>\n",
              "    </tr>\n",
              "  </thead>\n",
              "  <tbody>\n",
              "    <tr>\n",
              "      <th>count</th>\n",
              "      <td>8523</td>\n",
              "      <td>8523</td>\n",
              "      <td>8523</td>\n",
              "      <td>8523</td>\n",
              "      <td>8523</td>\n",
              "      <td>8523</td>\n",
              "      <td>8523</td>\n",
              "    </tr>\n",
              "    <tr>\n",
              "      <th>unique</th>\n",
              "      <td>1559</td>\n",
              "      <td>5</td>\n",
              "      <td>16</td>\n",
              "      <td>10</td>\n",
              "      <td>3</td>\n",
              "      <td>3</td>\n",
              "      <td>4</td>\n",
              "    </tr>\n",
              "    <tr>\n",
              "      <th>top</th>\n",
              "      <td>FDW13</td>\n",
              "      <td>Low Fat</td>\n",
              "      <td>Fruits and Vegetables</td>\n",
              "      <td>OUT027</td>\n",
              "      <td>Medium</td>\n",
              "      <td>Tier 3</td>\n",
              "      <td>Supermarket Type1</td>\n",
              "    </tr>\n",
              "    <tr>\n",
              "      <th>freq</th>\n",
              "      <td>10</td>\n",
              "      <td>5089</td>\n",
              "      <td>1232</td>\n",
              "      <td>935</td>\n",
              "      <td>5203</td>\n",
              "      <td>3350</td>\n",
              "      <td>5577</td>\n",
              "    </tr>\n",
              "  </tbody>\n",
              "</table>\n",
              "</div>\n",
              "      <button class=\"colab-df-convert\" onclick=\"convertToInteractive('df-6178f172-f678-4faf-a6e7-f51371407c3d')\"\n",
              "              title=\"Convert this dataframe to an interactive table.\"\n",
              "              style=\"display:none;\">\n",
              "        \n",
              "  <svg xmlns=\"http://www.w3.org/2000/svg\" height=\"24px\"viewBox=\"0 0 24 24\"\n",
              "       width=\"24px\">\n",
              "    <path d=\"M0 0h24v24H0V0z\" fill=\"none\"/>\n",
              "    <path d=\"M18.56 5.44l.94 2.06.94-2.06 2.06-.94-2.06-.94-.94-2.06-.94 2.06-2.06.94zm-11 1L8.5 8.5l.94-2.06 2.06-.94-2.06-.94L8.5 2.5l-.94 2.06-2.06.94zm10 10l.94 2.06.94-2.06 2.06-.94-2.06-.94-.94-2.06-.94 2.06-2.06.94z\"/><path d=\"M17.41 7.96l-1.37-1.37c-.4-.4-.92-.59-1.43-.59-.52 0-1.04.2-1.43.59L10.3 9.45l-7.72 7.72c-.78.78-.78 2.05 0 2.83L4 21.41c.39.39.9.59 1.41.59.51 0 1.02-.2 1.41-.59l7.78-7.78 2.81-2.81c.8-.78.8-2.07 0-2.86zM5.41 20L4 18.59l7.72-7.72 1.47 1.35L5.41 20z\"/>\n",
              "  </svg>\n",
              "      </button>\n",
              "      \n",
              "  <style>\n",
              "    .colab-df-container {\n",
              "      display:flex;\n",
              "      flex-wrap:wrap;\n",
              "      gap: 12px;\n",
              "    }\n",
              "\n",
              "    .colab-df-convert {\n",
              "      background-color: #E8F0FE;\n",
              "      border: none;\n",
              "      border-radius: 50%;\n",
              "      cursor: pointer;\n",
              "      display: none;\n",
              "      fill: #1967D2;\n",
              "      height: 32px;\n",
              "      padding: 0 0 0 0;\n",
              "      width: 32px;\n",
              "    }\n",
              "\n",
              "    .colab-df-convert:hover {\n",
              "      background-color: #E2EBFA;\n",
              "      box-shadow: 0px 1px 2px rgba(60, 64, 67, 0.3), 0px 1px 3px 1px rgba(60, 64, 67, 0.15);\n",
              "      fill: #174EA6;\n",
              "    }\n",
              "\n",
              "    [theme=dark] .colab-df-convert {\n",
              "      background-color: #3B4455;\n",
              "      fill: #D2E3FC;\n",
              "    }\n",
              "\n",
              "    [theme=dark] .colab-df-convert:hover {\n",
              "      background-color: #434B5C;\n",
              "      box-shadow: 0px 1px 3px 1px rgba(0, 0, 0, 0.15);\n",
              "      filter: drop-shadow(0px 1px 2px rgba(0, 0, 0, 0.3));\n",
              "      fill: #FFFFFF;\n",
              "    }\n",
              "  </style>\n",
              "\n",
              "      <script>\n",
              "        const buttonEl =\n",
              "          document.querySelector('#df-6178f172-f678-4faf-a6e7-f51371407c3d button.colab-df-convert');\n",
              "        buttonEl.style.display =\n",
              "          google.colab.kernel.accessAllowed ? 'block' : 'none';\n",
              "\n",
              "        async function convertToInteractive(key) {\n",
              "          const element = document.querySelector('#df-6178f172-f678-4faf-a6e7-f51371407c3d');\n",
              "          const dataTable =\n",
              "            await google.colab.kernel.invokeFunction('convertToInteractive',\n",
              "                                                     [key], {});\n",
              "          if (!dataTable) return;\n",
              "\n",
              "          const docLinkHtml = 'Like what you see? Visit the ' +\n",
              "            '<a target=\"_blank\" href=https://colab.research.google.com/notebooks/data_table.ipynb>data table notebook</a>'\n",
              "            + ' to learn more about interactive tables.';\n",
              "          element.innerHTML = '';\n",
              "          dataTable['output_type'] = 'display_data';\n",
              "          await google.colab.output.renderOutput(dataTable, element);\n",
              "          const docLink = document.createElement('div');\n",
              "          docLink.innerHTML = docLinkHtml;\n",
              "          element.appendChild(docLink);\n",
              "        }\n",
              "      </script>\n",
              "    </div>\n",
              "  </div>\n",
              "  "
            ]
          },
          "metadata": {},
          "execution_count": 34
        }
      ]
    },
    {
      "cell_type": "code",
      "source": [
        "dtypes = df.dtypes\n",
        "object_dtypes = dtypes[dtypes ==\"object\"] # This line of code tells me which data types are objects within my data frame\n",
        "object_dtypes"
      ],
      "metadata": {
        "colab": {
          "base_uri": "https://localhost:8080/"
        },
        "id": "AqBq9yPwXyS3",
        "outputId": "9e17f658-f3d7-44da-d372-f60fc06d1722"
      },
      "execution_count": 35,
      "outputs": [
        {
          "output_type": "execute_result",
          "data": {
            "text/plain": [
              "Item_Identifier         object\n",
              "Item_Fat_Content        object\n",
              "Item_Type               object\n",
              "Outlet_Identifier       object\n",
              "Outlet_Size             object\n",
              "Outlet_Location_Type    object\n",
              "Outlet_Type             object\n",
              "dtype: object"
            ]
          },
          "metadata": {},
          "execution_count": 35
        }
      ]
    },
    {
      "cell_type": "code",
      "source": [
        "for column in object_dtypes.index:\n",
        "  print(column)\n",
        "  print(df[column].unique()) # This block of code tells me which columns have unique values within them\n",
        "  print(\"\")"
      ],
      "metadata": {
        "colab": {
          "base_uri": "https://localhost:8080/"
        },
        "id": "tAytEYkiXJTE",
        "outputId": "df3d5824-b3bf-4202-a554-33cbb5b4fd2a"
      },
      "execution_count": 36,
      "outputs": [
        {
          "output_type": "stream",
          "name": "stdout",
          "text": [
            "Item_Identifier\n",
            "['FDA15' 'DRC01' 'FDN15' ... 'NCF55' 'NCW30' 'NCW05']\n",
            "\n",
            "Item_Fat_Content\n",
            "['Low Fat' 'Regular' 'low fat' 'LF' 'reg']\n",
            "\n",
            "Item_Type\n",
            "['Dairy' 'Soft Drinks' 'Meat' 'Fruits and Vegetables' 'Household'\n",
            " 'Baking Goods' 'Snack Foods' 'Frozen Foods' 'Breakfast'\n",
            " 'Health and Hygiene' 'Hard Drinks' 'Canned' 'Breads' 'Starchy Foods'\n",
            " 'Others' 'Seafood']\n",
            "\n",
            "Outlet_Identifier\n",
            "['OUT049' 'OUT018' 'OUT010' 'OUT013' 'OUT027' 'OUT045' 'OUT017' 'OUT046'\n",
            " 'OUT035' 'OUT019']\n",
            "\n",
            "Outlet_Size\n",
            "['Medium' 'High' 'Small']\n",
            "\n",
            "Outlet_Location_Type\n",
            "['Tier 1' 'Tier 3' 'Tier 2']\n",
            "\n",
            "Outlet_Type\n",
            "['Supermarket Type1' 'Supermarket Type2' 'Grocery Store'\n",
            " 'Supermarket Type3']\n",
            "\n"
          ]
        }
      ]
    },
    {
      "cell_type": "code",
      "source": [
        "for column in object_dtypes.index:\n",
        "  print(column)\n",
        "  print(df[column].value_counts()) # this line of code tells me what the value counts are for each of the column object types\n",
        "  print(\"\")"
      ],
      "metadata": {
        "colab": {
          "base_uri": "https://localhost:8080/"
        },
        "id": "70xVX3U7XpBf",
        "outputId": "eb0a0abe-0290-43c0-d4af-4fdae800c48a"
      },
      "execution_count": 37,
      "outputs": [
        {
          "output_type": "stream",
          "name": "stdout",
          "text": [
            "Item_Identifier\n",
            "FDW13    10\n",
            "FDG33    10\n",
            "NCY18     9\n",
            "FDD38     9\n",
            "DRE49     9\n",
            "         ..\n",
            "FDY43     1\n",
            "FDQ60     1\n",
            "FDO33     1\n",
            "DRF48     1\n",
            "FDC23     1\n",
            "Name: Item_Identifier, Length: 1559, dtype: int64\n",
            "\n",
            "Item_Fat_Content\n",
            "Low Fat    5089\n",
            "Regular    2889\n",
            "LF          316\n",
            "reg         117\n",
            "low fat     112\n",
            "Name: Item_Fat_Content, dtype: int64\n",
            "\n",
            "Item_Type\n",
            "Fruits and Vegetables    1232\n",
            "Snack Foods              1200\n",
            "Household                 910\n",
            "Frozen Foods              856\n",
            "Dairy                     682\n",
            "Canned                    649\n",
            "Baking Goods              648\n",
            "Health and Hygiene        520\n",
            "Soft Drinks               445\n",
            "Meat                      425\n",
            "Breads                    251\n",
            "Hard Drinks               214\n",
            "Others                    169\n",
            "Starchy Foods             148\n",
            "Breakfast                 110\n",
            "Seafood                    64\n",
            "Name: Item_Type, dtype: int64\n",
            "\n",
            "Outlet_Identifier\n",
            "OUT027    935\n",
            "OUT013    932\n",
            "OUT049    930\n",
            "OUT046    930\n",
            "OUT035    930\n",
            "OUT045    929\n",
            "OUT018    928\n",
            "OUT017    926\n",
            "OUT010    555\n",
            "OUT019    528\n",
            "Name: Outlet_Identifier, dtype: int64\n",
            "\n",
            "Outlet_Size\n",
            "Medium    5203\n",
            "Small     2388\n",
            "High       932\n",
            "Name: Outlet_Size, dtype: int64\n",
            "\n",
            "Outlet_Location_Type\n",
            "Tier 3    3350\n",
            "Tier 2    2785\n",
            "Tier 1    2388\n",
            "Name: Outlet_Location_Type, dtype: int64\n",
            "\n",
            "Outlet_Type\n",
            "Supermarket Type1    5577\n",
            "Grocery Store        1083\n",
            "Supermarket Type3     935\n",
            "Supermarket Type2     928\n",
            "Name: Outlet_Type, dtype: int64\n",
            "\n"
          ]
        }
      ]
    },
    {
      "cell_type": "code",
      "source": [
        "df[\"Item_Fat_Content\"] = df[\"Item_Fat_Content\"].replace(\"LF\", \"Low Fat\")\n",
        "df[\"Item_Fat_Content\"] = df[\"Item_Fat_Content\"].replace(\"reg\", \"Regular\")\n",
        "df[\"Item_Fat_Content\"] = df[\"Item_Fat_Content\"].replace(\"low fat\", \"Low Fat\") # this block of code allows me to rename the following columns and replace them with matching names that remove previously contrasting names\n",
        "\n",
        "df[\"Item_Fat_Content\"].value_counts()"
      ],
      "metadata": {
        "colab": {
          "base_uri": "https://localhost:8080/"
        },
        "id": "F5QaPFHYYqTA",
        "outputId": "7e70183f-8469-4345-d7ed-559670721e29"
      },
      "execution_count": 38,
      "outputs": [
        {
          "output_type": "execute_result",
          "data": {
            "text/plain": [
              "Low Fat    5517\n",
              "Regular    3006\n",
              "Name: Item_Fat_Content, dtype: int64"
            ]
          },
          "metadata": {},
          "execution_count": 38
        }
      ]
    },
    {
      "cell_type": "markdown",
      "source": [
        "# Project 1 - Part 3"
      ],
      "metadata": {
        "id": "2UUn1bgYZqvz"
      }
    },
    {
      "cell_type": "markdown",
      "source": [
        "### *Part 3* \n",
        "Will add completed statistical analyses to add in understanding, explaining and modelling of data.\n",
        "\n"
      ],
      "metadata": {
        "id": "8-96d8amZwvq"
      }
    },
    {
      "cell_type": "code",
      "source": [
        "import matplotlib.pyplot as plt\n",
        "import pandas as pd\n",
        "import numpy as np\n",
        "import seaborn as sns"
      ],
      "metadata": {
        "id": "ohMPXUe2ZvOJ"
      },
      "execution_count": 39,
      "outputs": []
    },
    {
      "cell_type": "markdown",
      "source": [
        " \n",
        "- Histogram addition will provide another path for rapid additional visual analysis\n",
        "- This visual helps to highlight the range of visibility per item based on item types. This could impact other downstream buying patterns"
      ],
      "metadata": {
        "id": "QU91whrXZEq6"
      }
    },
    {
      "cell_type": "code",
      "source": [
        "ax = df[\"Item_Type\"].hist(bins = \"auto\", edgecolor = \"black\")\n",
        "# ax.ticklabel_format(style=\"plain\")\n",
        "ax.tick_params(axis=\"x\", rotation=90) # This code creates a histogram giving a visual representation of the data and showing the relationship between item types and their distribution per item\n",
        "ax.set_title(\"Distribution of Item Types\")\n",
        "ax.set_xlabel(\"Item Types\")\n",
        "ax.set_ylabel(\"Visibility per Item\");"
      ],
      "metadata": {
        "colab": {
          "base_uri": "https://localhost:8080/",
          "height": 393
        },
        "id": "AbYrUHRGcfuV",
        "outputId": "e23e8c93-8b43-4e1b-986a-b4d3bb59dca8"
      },
      "execution_count": 40,
      "outputs": [
        {
          "output_type": "display_data",
          "data": {
            "text/plain": [
              "<Figure size 432x288 with 1 Axes>"
            ],
            "image/png": "[encoded data removed]"
          },
          "metadata": {
            "needs_background": "light"
          }
        }
      ]
    },
    {
      "cell_type": "code",
      "source": [
        "df[\"Item_Visibility\"].describe() # This line of code yields information regarding the mean, minimum and maximum values which gives us insight on "
      ],
      "metadata": {
        "id": "QK1i8x7ts3qw",
        "colab": {
          "base_uri": "https://localhost:8080/"
        },
        "outputId": "7eac048d-4c6b-4d9d-82fa-2d8949812907"
      },
      "execution_count": 41,
      "outputs": [
        {
          "output_type": "execute_result",
          "data": {
            "text/plain": [
              "count    8523.000000\n",
              "mean        0.066132\n",
              "std         0.051598\n",
              "min         0.000000\n",
              "25%         0.026989\n",
              "50%         0.053931\n",
              "75%         0.094585\n",
              "max         0.328391\n",
              "Name: Item_Visibility, dtype: float64"
            ]
          },
          "metadata": {},
          "execution_count": 41
        }
      ]
    },
    {
      "cell_type": "code",
      "source": [
        "ax = df[\"Item_Visibility\"].hist(bins= \"auto\", edgecolor= \"black\")\n",
        "# ax.ticklabel_format(style=\"plain\")\n",
        "ax.tick_params(axis=\"x\", rotation=70) # This code creates a histogram giving a visual representation of the data and showing the relationship between item types and their distribution per item\n",
        "ax.set_title(\"Item Visibility\")\n",
        "ax.set_xlabel(\"Item Type\")\n",
        "ax.set_ylabel(\"Visibility per Item\");"
      ],
      "metadata": {
        "id": "QiqYuSG8cvrt",
        "colab": {
          "base_uri": "https://localhost:8080/",
          "height": 310
        },
        "outputId": "145511ca-642f-46d8-c423-3c6aad9ce5f6"
      },
      "execution_count": 42,
      "outputs": [
        {
          "output_type": "display_data",
          "data": {
            "text/plain": [
              "<Figure size 432x288 with 1 Axes>"
            ],
            "image/png": "[encoded data removed]"
          },
          "metadata": {
            "needs_background": "light"
          }
        }
      ]
    },
    {
      "cell_type": "code",
      "source": [
        "ax = sns.boxplot(x= \"Item_Visibility\", data=df)\n",
        "ax.set_title(\"Item Visibility\");  # This line of code describes where the median visibiility grouping lies and shows there are a significant amount of outliers on the high side"
      ],
      "metadata": {
        "colab": {
          "base_uri": "https://localhost:8080/",
          "height": 296
        },
        "id": "Zn1XX1JKh-u-",
        "outputId": "3edccaf4-b8bc-4821-8fe4-8529ca64414d"
      },
      "execution_count": 43,
      "outputs": [
        {
          "output_type": "display_data",
          "data": {
            "text/plain": [
              "<Figure size 432x288 with 1 Axes>"
            ],
            "image/png": "[encoded data removed]"
          },
          "metadata": {
            "needs_background": "light"
          }
        }
      ]
    },
    {
      "cell_type": "code",
      "source": [
        "corr = df.corr() # This line of code sets up the introduction of using heatmaps to represent data"
      ],
      "metadata": {
        "id": "kn1hM2eNb9ST"
      },
      "execution_count": 44,
      "outputs": []
    },
    {
      "cell_type": "markdown",
      "source": [
        "- Heatmaps provide another means to visually identify correlation or the lack thereof between various variables"
      ],
      "metadata": {
        "id": "OnmpRUGe4j1I"
      }
    },
    {
      "cell_type": "code",
      "source": [
        "sns.heatmap(corr, cmap = 'Blues', annot = True); # This line of code creates a heatmap that shows a visual measure providing the opportunity to explore correlation values but does not prove causation"
      ],
      "metadata": {
        "colab": {
          "base_uri": "https://localhost:8080/",
          "height": 392
        },
        "id": "xsLhx3t6gBow",
        "outputId": "a1fb9983-c147-4cb3-d87f-9e4809dfcac5"
      },
      "execution_count": 45,
      "outputs": [
        {
          "output_type": "display_data",
          "data": {
            "text/plain": [
              "<Figure size 432x288 with 2 Axes>"
            ],
            "image/png": "[encoded data removed]"
          },
          "metadata": {
            "needs_background": "light"
          }
        }
      ]
    },
    {
      "cell_type": "markdown",
      "source": [
        "#**Project 1 - Part 4**"
      ],
      "metadata": {
        "id": "T0xbtRuV4bvw"
      }
    },
    {
      "cell_type": "markdown",
      "source": [
        "\n",
        "## Questions to ask to further analyze the dataset are \n",
        "1.\tIs there a relationship between Item Type and Item MRP?\n",
        "2.\tIs there a relationship between Outlet Size and Outlet Location and overall sales?\n",
        "3.\tIs there a relationship between Higher Sales and item location?\n",
        "4.\tIs there a relationship between the Item Visibility and the Item MRP?\n"
      ],
      "metadata": {
        "id": "ZHdzxS-1KGh-"
      }
    },
    {
      "cell_type": "markdown",
      "source": [
        "Side by side plots will help show a possible relationship between Item Type and Item MRP"
      ],
      "metadata": {
        "id": "yfYpoWpJOOni"
      }
    },
    {
      "cell_type": "code",
      "source": [
        "ax = sns.barplot(data=df, x=\"Item_MRP\", y=\"Item_Type\") # This line of code shares the relationship between Item MRP and Item Type\n",
        "ax.set_title(\"Relationship between Item MRP and Item Types\");"
      ],
      "metadata": {
        "colab": {
          "base_uri": "https://localhost:8080/",
          "height": 296
        },
        "id": "OsstUJjvXyWb",
        "outputId": "899a11f6-ce20-47ba-8bc5-e74392299f6c"
      },
      "execution_count": 52,
      "outputs": [
        {
          "output_type": "display_data",
          "data": {
            "text/plain": [
              "<Figure size 432x288 with 1 Axes>"
            ],
            "image/png": "[encoded data removed]"
          },
          "metadata": {
            "needs_background": "light"
          }
        }
      ]
    },
    {
      "cell_type": "markdown",
      "source": [
        "- Is there a relationship between Outlet Size and Outlet Location and overall sales?"
      ],
      "metadata": {
        "id": "0Al-Fecuevxy"
      }
    },
    {
      "cell_type": "code",
      "source": [
        "ax = sns.barplot(data=df, x=\"Outlet_Location_Type\", y=\"Item_Outlet_Sales\") # This line of code creates a barplot showing the relationship between Outlet Location and Item Sales\n",
        "ax.set_title(\"Sales By Outlet Location\");"
      ],
      "metadata": {
        "colab": {
          "base_uri": "https://localhost:8080/",
          "height": 296
        },
        "id": "qAEiOULaaNb8",
        "outputId": "bb4661ec-b187-4758-aa07-13c5518a1819"
      },
      "execution_count": 53,
      "outputs": [
        {
          "output_type": "display_data",
          "data": {
            "text/plain": [
              "<Figure size 432x288 with 1 Axes>"
            ],
            "image/png": "[encoded data removed]"
          },
          "metadata": {
            "needs_background": "light"
          }
        }
      ]
    },
    {
      "cell_type": "markdown",
      "source": [
        "-\n",
        "Based on this information, there appears to be a correlation between the Outlet Location Type and the Item Outlet Sales. Notably there seems to be a similarity in Item Outlet Sales with Tier 2 and Tier 3 Location types. Tier 2 seeming to place slightly higher than Tier 3. "
      ],
      "metadata": {
        "id": "0wCc9Gnk3gRa"
      }
    },
    {
      "cell_type": "code",
      "source": [],
      "metadata": {
        "id": "SyZcWO40epY1"
      },
      "execution_count": null,
      "outputs": []
    }
  ]
}